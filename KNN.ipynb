{
  "nbformat": 4,
  "nbformat_minor": 0,
  "metadata": {
    "kernelspec": {
      "display_name": "Python 3",
      "language": "python",
      "name": "python3"
    },
    "language_info": {
      "codemirror_mode": {
        "name": "ipython",
        "version": 3
      },
      "file_extension": ".py",
      "mimetype": "text/x-python",
      "name": "python",
      "nbconvert_exporter": "python",
      "pygments_lexer": "ipython3",
      "version": "3.9.2"
    },
    "colab": {
      "name": "hw04.ipynb",
      "provenance": []
    }
  },
  "cells": [
    {
      "cell_type": "markdown",
      "metadata": {
        "id": "-lgoxedahd6J"
      },
      "source": [
        "## Интеллектуальный анализ данных – весна 2021\n",
        "## Домашнее задание 4: kNN. Линейные модели. Работа с признаками"
      ]
    },
    {
      "cell_type": "markdown",
      "metadata": {
        "id": "cdypmtskhd6a"
      },
      "source": [
        "Правила:\n",
        "\n",
        "* Домашнее задание оценивается в 10 баллов.\n",
        "\n",
        "* Можно использовать без доказательства любые результаты, встречавшиеся на лекциях или семинарах по курсу, если получение этих результатов не является вопросом задания.\n",
        "\n",
        "* Можно использовать любые свободные источники с *обязательным* указанием ссылки на них.\n",
        "\n",
        "* Плагиат не допускается. При обнаружении случаев списывания, 0 за работу выставляется всем участникам нарушения, даже если можно установить, кто у кого списал.\n",
        "\n",
        "* Старайтесь сделать код как можно более оптимальным. В частности, будет штрафоваться использование циклов в тех случаях, когда операцию можно совершить при помощи инструментов библиотек, о которых рассказывалось в курсе.  "
      ]
    },
    {
      "cell_type": "markdown",
      "metadata": {
        "id": "QugLBGkahd6d"
      },
      "source": [
        "### Задание 1:  Визуализация решающих поверхностей в kNN."
      ]
    },
    {
      "cell_type": "markdown",
      "metadata": {
        "id": "L4MHJRqohd6k"
      },
      "source": [
        "В этом задании мы изобразим решающую поверхность для классификатора kNN, чтобы наглядно увидеть, как классификатор принимает решения для новых объектов. Для простоты будем работать со встроенным в `sklearn` набором данных `wine`, содержащим информацию о характеристиках трёх видов вина. Описание набора можно найти [здесь](https://scikit-learn.org/stable/modules/generated/sklearn.datasets.load_wine.html#sklearn.datasets.load_wine) и [здесь](https://rdrr.io/cran/rattle.data/man/wine.html). "
      ]
    },
    {
      "cell_type": "markdown",
      "metadata": {
        "id": "ZJ4L_nbShd6l"
      },
      "source": [
        "Загрузим набор данных и сохраним информацию о признаках в переменную `X`, а о зависимой переменной – в переменную `y`."
      ]
    },
    {
      "cell_type": "code",
      "metadata": {
        "id": "a6Vp-L4Whd6m"
      },
      "source": [
        "import numpy as np\n",
        "import pandas as pd\n",
        "import matplotlib.pyplot as plt"
      ],
      "execution_count": null,
      "outputs": []
    },
    {
      "cell_type": "code",
      "metadata": {
        "colab": {
          "base_uri": "https://localhost:8080/",
          "height": 316
        },
        "id": "GjfvnxdFhd6n",
        "outputId": "d8188786-3a67-4699-abdc-d84dc6fe2cfa"
      },
      "source": [
        "from sklearn.datasets import load_wine\n",
        "\n",
        "data = load_wine()\n",
        "X = pd.DataFrame(data['data'], columns = data['feature_names'])\n",
        "y = data['target']\n",
        "X.head(8)"
      ],
      "execution_count": null,
      "outputs": [
        {
          "output_type": "execute_result",
          "data": {
            "text/html": [
              "<div>\n",
              "<style scoped>\n",
              "    .dataframe tbody tr th:only-of-type {\n",
              "        vertical-align: middle;\n",
              "    }\n",
              "\n",
              "    .dataframe tbody tr th {\n",
              "        vertical-align: top;\n",
              "    }\n",
              "\n",
              "    .dataframe thead th {\n",
              "        text-align: right;\n",
              "    }\n",
              "</style>\n",
              "<table border=\"1\" class=\"dataframe\">\n",
              "  <thead>\n",
              "    <tr style=\"text-align: right;\">\n",
              "      <th></th>\n",
              "      <th>alcohol</th>\n",
              "      <th>malic_acid</th>\n",
              "      <th>ash</th>\n",
              "      <th>alcalinity_of_ash</th>\n",
              "      <th>magnesium</th>\n",
              "      <th>total_phenols</th>\n",
              "      <th>flavanoids</th>\n",
              "      <th>nonflavanoid_phenols</th>\n",
              "      <th>proanthocyanins</th>\n",
              "      <th>color_intensity</th>\n",
              "      <th>hue</th>\n",
              "      <th>od280/od315_of_diluted_wines</th>\n",
              "      <th>proline</th>\n",
              "    </tr>\n",
              "  </thead>\n",
              "  <tbody>\n",
              "    <tr>\n",
              "      <th>0</th>\n",
              "      <td>14.23</td>\n",
              "      <td>1.71</td>\n",
              "      <td>2.43</td>\n",
              "      <td>15.6</td>\n",
              "      <td>127.0</td>\n",
              "      <td>2.80</td>\n",
              "      <td>3.06</td>\n",
              "      <td>0.28</td>\n",
              "      <td>2.29</td>\n",
              "      <td>5.64</td>\n",
              "      <td>1.04</td>\n",
              "      <td>3.92</td>\n",
              "      <td>1065.0</td>\n",
              "    </tr>\n",
              "    <tr>\n",
              "      <th>1</th>\n",
              "      <td>13.20</td>\n",
              "      <td>1.78</td>\n",
              "      <td>2.14</td>\n",
              "      <td>11.2</td>\n",
              "      <td>100.0</td>\n",
              "      <td>2.65</td>\n",
              "      <td>2.76</td>\n",
              "      <td>0.26</td>\n",
              "      <td>1.28</td>\n",
              "      <td>4.38</td>\n",
              "      <td>1.05</td>\n",
              "      <td>3.40</td>\n",
              "      <td>1050.0</td>\n",
              "    </tr>\n",
              "    <tr>\n",
              "      <th>2</th>\n",
              "      <td>13.16</td>\n",
              "      <td>2.36</td>\n",
              "      <td>2.67</td>\n",
              "      <td>18.6</td>\n",
              "      <td>101.0</td>\n",
              "      <td>2.80</td>\n",
              "      <td>3.24</td>\n",
              "      <td>0.30</td>\n",
              "      <td>2.81</td>\n",
              "      <td>5.68</td>\n",
              "      <td>1.03</td>\n",
              "      <td>3.17</td>\n",
              "      <td>1185.0</td>\n",
              "    </tr>\n",
              "    <tr>\n",
              "      <th>3</th>\n",
              "      <td>14.37</td>\n",
              "      <td>1.95</td>\n",
              "      <td>2.50</td>\n",
              "      <td>16.8</td>\n",
              "      <td>113.0</td>\n",
              "      <td>3.85</td>\n",
              "      <td>3.49</td>\n",
              "      <td>0.24</td>\n",
              "      <td>2.18</td>\n",
              "      <td>7.80</td>\n",
              "      <td>0.86</td>\n",
              "      <td>3.45</td>\n",
              "      <td>1480.0</td>\n",
              "    </tr>\n",
              "    <tr>\n",
              "      <th>4</th>\n",
              "      <td>13.24</td>\n",
              "      <td>2.59</td>\n",
              "      <td>2.87</td>\n",
              "      <td>21.0</td>\n",
              "      <td>118.0</td>\n",
              "      <td>2.80</td>\n",
              "      <td>2.69</td>\n",
              "      <td>0.39</td>\n",
              "      <td>1.82</td>\n",
              "      <td>4.32</td>\n",
              "      <td>1.04</td>\n",
              "      <td>2.93</td>\n",
              "      <td>735.0</td>\n",
              "    </tr>\n",
              "    <tr>\n",
              "      <th>5</th>\n",
              "      <td>14.20</td>\n",
              "      <td>1.76</td>\n",
              "      <td>2.45</td>\n",
              "      <td>15.2</td>\n",
              "      <td>112.0</td>\n",
              "      <td>3.27</td>\n",
              "      <td>3.39</td>\n",
              "      <td>0.34</td>\n",
              "      <td>1.97</td>\n",
              "      <td>6.75</td>\n",
              "      <td>1.05</td>\n",
              "      <td>2.85</td>\n",
              "      <td>1450.0</td>\n",
              "    </tr>\n",
              "    <tr>\n",
              "      <th>6</th>\n",
              "      <td>14.39</td>\n",
              "      <td>1.87</td>\n",
              "      <td>2.45</td>\n",
              "      <td>14.6</td>\n",
              "      <td>96.0</td>\n",
              "      <td>2.50</td>\n",
              "      <td>2.52</td>\n",
              "      <td>0.30</td>\n",
              "      <td>1.98</td>\n",
              "      <td>5.25</td>\n",
              "      <td>1.02</td>\n",
              "      <td>3.58</td>\n",
              "      <td>1290.0</td>\n",
              "    </tr>\n",
              "    <tr>\n",
              "      <th>7</th>\n",
              "      <td>14.06</td>\n",
              "      <td>2.15</td>\n",
              "      <td>2.61</td>\n",
              "      <td>17.6</td>\n",
              "      <td>121.0</td>\n",
              "      <td>2.60</td>\n",
              "      <td>2.51</td>\n",
              "      <td>0.31</td>\n",
              "      <td>1.25</td>\n",
              "      <td>5.05</td>\n",
              "      <td>1.06</td>\n",
              "      <td>3.58</td>\n",
              "      <td>1295.0</td>\n",
              "    </tr>\n",
              "  </tbody>\n",
              "</table>\n",
              "</div>"
            ],
            "text/plain": [
              "   alcohol  malic_acid   ash  ...   hue  od280/od315_of_diluted_wines  proline\n",
              "0    14.23        1.71  2.43  ...  1.04                          3.92   1065.0\n",
              "1    13.20        1.78  2.14  ...  1.05                          3.40   1050.0\n",
              "2    13.16        2.36  2.67  ...  1.03                          3.17   1185.0\n",
              "3    14.37        1.95  2.50  ...  0.86                          3.45   1480.0\n",
              "4    13.24        2.59  2.87  ...  1.04                          2.93    735.0\n",
              "5    14.20        1.76  2.45  ...  1.05                          2.85   1450.0\n",
              "6    14.39        1.87  2.45  ...  1.02                          3.58   1290.0\n",
              "7    14.06        2.15  2.61  ...  1.06                          3.58   1295.0\n",
              "\n",
              "[8 rows x 13 columns]"
            ]
          },
          "metadata": {
            "tags": []
          },
          "execution_count": 24
        }
      ]
    },
    {
      "cell_type": "markdown",
      "metadata": {
        "id": "4BLpA_Ebhd6q"
      },
      "source": [
        "**Задача 1.1 (0.5 балла)** Есть ли в наборе данных пропущенные значения? Если да, то удалите их. Есть ли в наборе данных категориальные переменные? Если да, то закодируйте их при помощи OneHot-кодирования."
      ]
    },
    {
      "cell_type": "markdown",
      "metadata": {
        "id": "NyALnT1whd6r"
      },
      "source": [
        "Все признаки в наборе данных являются числовыми. Пропусков нет."
      ]
    },
    {
      "cell_type": "code",
      "metadata": {
        "colab": {
          "base_uri": "https://localhost:8080/"
        },
        "id": "4mMsPAv3hd6s",
        "outputId": "a790a867-5424-4e9a-ca0d-dbaab5b3fe02"
      },
      "source": [
        "print(data.DESCR)"
      ],
      "execution_count": null,
      "outputs": [
        {
          "output_type": "stream",
          "text": [
            ".. _wine_dataset:\n",
            "\n",
            "Wine recognition dataset\n",
            "------------------------\n",
            "\n",
            "**Data Set Characteristics:**\n",
            "\n",
            "    :Number of Instances: 178 (50 in each of three classes)\n",
            "    :Number of Attributes: 13 numeric, predictive attributes and the class\n",
            "    :Attribute Information:\n",
            " \t\t- Alcohol\n",
            " \t\t- Malic acid\n",
            " \t\t- Ash\n",
            "\t\t- Alcalinity of ash  \n",
            " \t\t- Magnesium\n",
            "\t\t- Total phenols\n",
            " \t\t- Flavanoids\n",
            " \t\t- Nonflavanoid phenols\n",
            " \t\t- Proanthocyanins\n",
            "\t\t- Color intensity\n",
            " \t\t- Hue\n",
            " \t\t- OD280/OD315 of diluted wines\n",
            " \t\t- Proline\n",
            "\n",
            "    - class:\n",
            "            - class_0\n",
            "            - class_1\n",
            "            - class_2\n",
            "\t\t\n",
            "    :Summary Statistics:\n",
            "    \n",
            "    ============================= ==== ===== ======= =====\n",
            "                                   Min   Max   Mean     SD\n",
            "    ============================= ==== ===== ======= =====\n",
            "    Alcohol:                      11.0  14.8    13.0   0.8\n",
            "    Malic Acid:                   0.74  5.80    2.34  1.12\n",
            "    Ash:                          1.36  3.23    2.36  0.27\n",
            "    Alcalinity of Ash:            10.6  30.0    19.5   3.3\n",
            "    Magnesium:                    70.0 162.0    99.7  14.3\n",
            "    Total Phenols:                0.98  3.88    2.29  0.63\n",
            "    Flavanoids:                   0.34  5.08    2.03  1.00\n",
            "    Nonflavanoid Phenols:         0.13  0.66    0.36  0.12\n",
            "    Proanthocyanins:              0.41  3.58    1.59  0.57\n",
            "    Colour Intensity:              1.3  13.0     5.1   2.3\n",
            "    Hue:                          0.48  1.71    0.96  0.23\n",
            "    OD280/OD315 of diluted wines: 1.27  4.00    2.61  0.71\n",
            "    Proline:                       278  1680     746   315\n",
            "    ============================= ==== ===== ======= =====\n",
            "\n",
            "    :Missing Attribute Values: None\n",
            "    :Class Distribution: class_0 (59), class_1 (71), class_2 (48)\n",
            "    :Creator: R.A. Fisher\n",
            "    :Donor: Michael Marshall (MARSHALL%PLU@io.arc.nasa.gov)\n",
            "    :Date: July, 1988\n",
            "\n",
            "This is a copy of UCI ML Wine recognition datasets.\n",
            "https://archive.ics.uci.edu/ml/machine-learning-databases/wine/wine.data\n",
            "\n",
            "The data is the results of a chemical analysis of wines grown in the same\n",
            "region in Italy by three different cultivators. There are thirteen different\n",
            "measurements taken for different constituents found in the three types of\n",
            "wine.\n",
            "\n",
            "Original Owners: \n",
            "\n",
            "Forina, M. et al, PARVUS - \n",
            "An Extendible Package for Data Exploration, Classification and Correlation. \n",
            "Institute of Pharmaceutical and Food Analysis and Technologies,\n",
            "Via Brigata Salerno, 16147 Genoa, Italy.\n",
            "\n",
            "Citation:\n",
            "\n",
            "Lichman, M. (2013). UCI Machine Learning Repository\n",
            "[https://archive.ics.uci.edu/ml]. Irvine, CA: University of California,\n",
            "School of Information and Computer Science. \n",
            "\n",
            ".. topic:: References\n",
            "\n",
            "  (1) S. Aeberhard, D. Coomans and O. de Vel, \n",
            "  Comparison of Classifiers in High Dimensional Settings, \n",
            "  Tech. Rep. no. 92-02, (1992), Dept. of Computer Science and Dept. of  \n",
            "  Mathematics and Statistics, James Cook University of North Queensland. \n",
            "  (Also submitted to Technometrics). \n",
            "\n",
            "  The data was used with many others for comparing various \n",
            "  classifiers. The classes are separable, though only RDA \n",
            "  has achieved 100% correct classification. \n",
            "  (RDA : 100%, QDA 99.4%, LDA 98.9%, 1NN 96.1% (z-transformed data)) \n",
            "  (All results using the leave-one-out technique) \n",
            "\n",
            "  (2) S. Aeberhard, D. Coomans and O. de Vel, \n",
            "  \"THE CLASSIFICATION PERFORMANCE OF RDA\" \n",
            "  Tech. Rep. no. 92-01, (1992), Dept. of Computer Science and Dept. of \n",
            "  Mathematics and Statistics, James Cook University of North Queensland. \n",
            "  (Also submitted to Journal of Chemometrics).\n",
            "\n"
          ],
          "name": "stdout"
        }
      ]
    },
    {
      "cell_type": "code",
      "metadata": {
        "colab": {
          "base_uri": "https://localhost:8080/"
        },
        "id": "7uDaEpURhd6t",
        "outputId": "76762f10-db22-441e-aa59-b505f9b1ff34"
      },
      "source": [
        "X.dtypes"
      ],
      "execution_count": null,
      "outputs": [
        {
          "output_type": "execute_result",
          "data": {
            "text/plain": [
              "alcohol                         float64\n",
              "malic_acid                      float64\n",
              "ash                             float64\n",
              "alcalinity_of_ash               float64\n",
              "magnesium                       float64\n",
              "total_phenols                   float64\n",
              "flavanoids                      float64\n",
              "nonflavanoid_phenols            float64\n",
              "proanthocyanins                 float64\n",
              "color_intensity                 float64\n",
              "hue                             float64\n",
              "od280/od315_of_diluted_wines    float64\n",
              "proline                         float64\n",
              "dtype: object"
            ]
          },
          "metadata": {
            "tags": []
          },
          "execution_count": 26
        }
      ]
    },
    {
      "cell_type": "code",
      "metadata": {
        "colab": {
          "base_uri": "https://localhost:8080/"
        },
        "id": "9I-6LduZhd6u",
        "outputId": "48690d44-ac4f-430b-a748-7c4ce6f59a43"
      },
      "source": [
        "X.isnull().any().any()"
      ],
      "execution_count": null,
      "outputs": [
        {
          "output_type": "execute_result",
          "data": {
            "text/plain": [
              "False"
            ]
          },
          "metadata": {
            "tags": []
          },
          "execution_count": 27
        }
      ]
    },
    {
      "cell_type": "markdown",
      "metadata": {
        "id": "5Bhnn6yghd6v"
      },
      "source": [
        "**Задача 1.2 (0.5 балла)** Используя функцию `train_test_split()`, разделите выборку на тренировочную и тестовую, и долю тестовой выборки задайте равной 0.3. Так как разбиение осуществляется случайным образом, не забудьте зафиксировать `np.random.seed()` для воспроизводимости результатов."
      ]
    },
    {
      "cell_type": "code",
      "metadata": {
        "id": "MIuOrzBMhd6w"
      },
      "source": [
        "np.random.seed(25022021)"
      ],
      "execution_count": null,
      "outputs": []
    },
    {
      "cell_type": "code",
      "metadata": {
        "id": "tyB3aln-hd6w"
      },
      "source": [
        "from sklearn.model_selection import train_test_split"
      ],
      "execution_count": null,
      "outputs": []
    },
    {
      "cell_type": "code",
      "metadata": {
        "id": "S12KRfNkhd6x"
      },
      "source": [
        "X_train, X_test, y_train, y_test = train_test_split(X, y, test_size=0.3, random_state=25022021)"
      ],
      "execution_count": null,
      "outputs": []
    },
    {
      "cell_type": "markdown",
      "metadata": {
        "id": "qqzb74Xuhd6x"
      },
      "source": [
        "**Задача 1.3 (1 балл)** На тренировочной выборке обучите шесть классификаторов kNN, отличающихся только числом соседей. Для первого классификатора число соседей поставьте равным 1, для второго - 3, для третьего – 5, для четвертого – 10, для пятого – 15 и для шестого – 25 (обратите внимание на параметр `n_neighbours` класса `KNeighborsClassifier`). Для обучения используйте только два признака: `alcohol` и `magnesium` – и евклидово расстояние. Не забудьте масштабировать признаки, например, при помощи модуля `StandardScaler`.\n",
        "\n",
        "Выведите долю правильных ответов на тренировочной и тестовой выборках для каждого классификатора."
      ]
    },
    {
      "cell_type": "code",
      "metadata": {
        "id": "pHk0MEephd6y"
      },
      "source": [
        "from sklearn.neighbors import KNeighborsClassifier\n",
        "from sklearn.preprocessing import StandardScaler\n",
        "from sklearn.metrics import accuracy_score"
      ],
      "execution_count": null,
      "outputs": []
    },
    {
      "cell_type": "code",
      "metadata": {
        "id": "3daFSk2vhd6z"
      },
      "source": [
        "scaler = StandardScaler()\n",
        "X_train_scaled = scaler.fit_transform(X_train)\n",
        "X_test_scaled = scaler.transform(X_test)"
      ],
      "execution_count": null,
      "outputs": []
    },
    {
      "cell_type": "code",
      "metadata": {
        "colab": {
          "base_uri": "https://localhost:8080/",
          "height": 248
        },
        "id": "E0nTvoilhd6z",
        "outputId": "c89647b3-24df-494a-bb6a-3e3a4a44cff5"
      },
      "source": [
        "fig, ax = plt.subplots(figsize=(8, 6))\n",
        "\n",
        "ax.scatter(X['alcohol'][:59], X['magnesium'][:59], label='0')\n",
        "ax.scatter(X['alcohol'][59:130], X['magnesium'][59:130], label='1')\n",
        "ax.scatter(X['alcohol'][130:], X['magnesium'][130:], label='2')\n",
        "\n",
        "ax.legend()\n",
        "ax.set_xlabel('alcohol')\n",
        "ax.set_ylabel('magnesium')\n",
        "ax.set_title('Scatter plot of alcohol-magnesium content by wine type');"
      ],
      "execution_count": null,
      "outputs": [
        {
          "output_type": "display_data",
          "data": {
            "image/png": "[encoded data removed]",
            "text/plain": [
              "<Figure size 576x432 with 1 Axes>"
            ]
          },
          "metadata": {
            "tags": [],
            "needs_background": "light"
          }
        }
      ]
    },
    {
      "cell_type": "code",
      "metadata": {
        "colab": {
          "base_uri": "https://localhost:8080/"
        },
        "id": "5isJFPAmhd60",
        "outputId": "1bc2e286-aed5-469e-9476-59de5f57d353"
      },
      "source": [
        "clfs = []\n",
        "\n",
        "print('NN' + '\\t ' + 'Train' + '\\t ' + 'Test')\n",
        "for k in [1, 3, 5, 10, 15, 25]:\n",
        "    knn = KNeighborsClassifier(n_neighbors=k).fit(X_train_scaled[:, [0, 4]], y_train)\n",
        "    pred_train = knn.predict(X_train_scaled[:, [0, 4]])\n",
        "    pred_test = knn.predict(X_test_scaled[:, [0, 4]])\n",
        "    print(f'{k:2}\\t {accuracy_score(y_train, pred_train):.4f}\\t {accuracy_score(y_test, pred_test):.4f}')\n",
        "    \n",
        "    clfs.append(knn)"
      ],
      "execution_count": null,
      "outputs": [
        {
          "output_type": "stream",
          "text": [
            "NN\t Train\t Test\n",
            " 1\t 1.0000\t 0.6296\n",
            " 3\t 0.8468\t 0.6296\n",
            " 5\t 0.7903\t 0.7222\n",
            "10\t 0.7661\t 0.7407\n",
            "15\t 0.7419\t 0.7593\n",
            "25\t 0.7339\t 0.6852\n"
          ],
          "name": "stdout"
        }
      ]
    },
    {
      "cell_type": "markdown",
      "metadata": {
        "id": "3vwx688chd61"
      },
      "source": [
        "**Задача 1.4 (0 баллов)** Установите библиотеку `mlxtend` командой ниже. Библиотеку также можно установить из терминала при помощи `pip` или `conda`, как указано [здесь](http://rasbt.github.io/mlxtend/installation/). "
      ]
    },
    {
      "cell_type": "code",
      "metadata": {
        "colab": {
          "base_uri": "https://localhost:8080/"
        },
        "id": "MF9XhMWEhd62",
        "outputId": "5838bfc6-9f99-4f59-c5e0-0cd2d1d346e4"
      },
      "source": [
        "!pip install mlxtend"
      ],
      "execution_count": null,
      "outputs": [
        {
          "output_type": "stream",
          "text": [
            "Requirement already satisfied: mlxtend in /usr/local/lib/python3.7/dist-packages (0.14.0)\n",
            "Requirement already satisfied: numpy>=1.10.4 in /usr/local/lib/python3.7/dist-packages (from mlxtend) (1.19.5)\n",
            "Requirement already satisfied: matplotlib>=1.5.1 in /usr/local/lib/python3.7/dist-packages (from mlxtend) (3.2.2)\n",
            "Requirement already satisfied: scipy>=0.17 in /usr/local/lib/python3.7/dist-packages (from mlxtend) (1.4.1)\n",
            "Requirement already satisfied: setuptools in /usr/local/lib/python3.7/dist-packages (from mlxtend) (54.0.0)\n",
            "Requirement already satisfied: pandas>=0.17.1 in /usr/local/lib/python3.7/dist-packages (from mlxtend) (1.1.5)\n",
            "Requirement already satisfied: scikit-learn>=0.18 in /usr/local/lib/python3.7/dist-packages (from mlxtend) (0.22.2.post1)\n",
            "Requirement already satisfied: pyparsing!=2.0.4,!=2.1.2,!=2.1.6,>=2.0.1 in /usr/local/lib/python3.7/dist-packages (from matplotlib>=1.5.1->mlxtend) (2.4.7)\n",
            "Requirement already satisfied: kiwisolver>=1.0.1 in /usr/local/lib/python3.7/dist-packages (from matplotlib>=1.5.1->mlxtend) (1.3.1)\n",
            "Requirement already satisfied: python-dateutil>=2.1 in /usr/local/lib/python3.7/dist-packages (from matplotlib>=1.5.1->mlxtend) (2.8.1)\n",
            "Requirement already satisfied: cycler>=0.10 in /usr/local/lib/python3.7/dist-packages (from matplotlib>=1.5.1->mlxtend) (0.10.0)\n",
            "Requirement already satisfied: pytz>=2017.2 in /usr/local/lib/python3.7/dist-packages (from pandas>=0.17.1->mlxtend) (2018.9)\n",
            "Requirement already satisfied: joblib>=0.11 in /usr/local/lib/python3.7/dist-packages (from scikit-learn>=0.18->mlxtend) (1.0.1)\n",
            "Requirement already satisfied: six>=1.5 in /usr/local/lib/python3.7/dist-packages (from python-dateutil>=2.1->matplotlib>=1.5.1->mlxtend) (1.15.0)\n"
          ],
          "name": "stdout"
        }
      ]
    },
    {
      "cell_type": "markdown",
      "metadata": {
        "id": "sLkVQll9hd63"
      },
      "source": [
        "Если всё прошло успешно, то в выводе команды выше вы увидите сообщение вроде \"successfully installed\", а следующая ячейка выполнится без ошибок."
      ]
    },
    {
      "cell_type": "code",
      "metadata": {
        "id": "WafLqC4qhd63"
      },
      "source": [
        "from mlxtend.plotting import plot_decision_regions\n",
        "import matplotlib.gridspec as gridspec\n",
        "import itertools"
      ],
      "execution_count": null,
      "outputs": []
    },
    {
      "cell_type": "markdown",
      "metadata": {
        "id": "RThymz4Yhd63"
      },
      "source": [
        "**Задача 1.5 (1 балл)** Библиотека `mlxtend` позволяет достаточно просто визуализировать решающие поверхности обученных классификаторов. Изучите [документацию](http://rasbt.github.io/mlxtend/user_guide/plotting/plot_decision_regions/) библиотеки и найдите, как можно построить несколько графиков решающих поверхностей на сетке (decision regions grid). Постройте такую сетку графиков для обученных выше классификаторов.\n",
        "\n",
        "**Подсказки:**\n",
        "1. Вы можете использовать готовый код, приведённый в документации, и адаптировать его для нашего случая.\n",
        "2. Вам могут понадобиться дополнительные библиотеки, которые используются в примере из документации.\n",
        "3. Обратите внимание на то, как нужно изменить параметры `gridspec.GridSpec()` и `itertools.product()` для нашего числа классификаторов. \n",
        "4. В функции `plot_decision_region()` используйте `y_train` и нужные столбцы из `X_train`. Возможно, их придётся перевести в формат массива `numpy`.\n",
        "5. Если в задаче 1.3 вы сохраните обученные классификаторы в список, то не будет необходимости обучать их заново. \n",
        "6. Построение графика может занять некоторое время – придётся немного подождать!"
      ]
    },
    {
      "cell_type": "code",
      "metadata": {
        "colab": {
          "base_uri": "https://localhost:8080/",
          "height": 363
        },
        "id": "SaJsCOUIhd64",
        "outputId": "5d225f89-f775-4f46-dbde-d3d2188607ce"
      },
      "source": [
        "fig = plt.figure(figsize=(21, 8))\n",
        "\n",
        "gs = gridspec.GridSpec(2, 3, fig)\n",
        "n_neighbors = [1, 3, 5, 10, 15, 25]\n",
        "\n",
        "for clf, k, grd in zip(clfs, n_neighbors, list(itertools.product([0, 1, 2], repeat=2))[:6]):\n",
        "    ax = plt.subplot(gs[grd[0], grd[1]])\n",
        "    fig = plot_decision_regions(X_train_scaled[:, [0, 4]], y_train, clf, legend=2)\n",
        "    plt.title(f'n_neighbors = {k}')"
      ],
      "execution_count": null,
      "outputs": [
        {
          "output_type": "stream",
          "text": [
            "/usr/local/lib/python3.7/dist-packages/mlxtend/plotting/decision_regions.py:244: MatplotlibDeprecationWarning: Passing unsupported keyword arguments to axis() will raise a TypeError in 3.3.\n",
            "  ax.axis(xmin=xx.min(), xmax=xx.max(), y_min=yy.min(), y_max=yy.max())\n",
            "/usr/local/lib/python3.7/dist-packages/mlxtend/plotting/decision_regions.py:244: MatplotlibDeprecationWarning: Passing unsupported keyword arguments to axis() will raise a TypeError in 3.3.\n",
            "  ax.axis(xmin=xx.min(), xmax=xx.max(), y_min=yy.min(), y_max=yy.max())\n",
            "/usr/local/lib/python3.7/dist-packages/mlxtend/plotting/decision_regions.py:244: MatplotlibDeprecationWarning: Passing unsupported keyword arguments to axis() will raise a TypeError in 3.3.\n",
            "  ax.axis(xmin=xx.min(), xmax=xx.max(), y_min=yy.min(), y_max=yy.max())\n",
            "/usr/local/lib/python3.7/dist-packages/mlxtend/plotting/decision_regions.py:244: MatplotlibDeprecationWarning: Passing unsupported keyword arguments to axis() will raise a TypeError in 3.3.\n",
            "  ax.axis(xmin=xx.min(), xmax=xx.max(), y_min=yy.min(), y_max=yy.max())\n",
            "/usr/local/lib/python3.7/dist-packages/mlxtend/plotting/decision_regions.py:244: MatplotlibDeprecationWarning: Passing unsupported keyword arguments to axis() will raise a TypeError in 3.3.\n",
            "  ax.axis(xmin=xx.min(), xmax=xx.max(), y_min=yy.min(), y_max=yy.max())\n",
            "/usr/local/lib/python3.7/dist-packages/mlxtend/plotting/decision_regions.py:244: MatplotlibDeprecationWarning: Passing unsupported keyword arguments to axis() will raise a TypeError in 3.3.\n",
            "  ax.axis(xmin=xx.min(), xmax=xx.max(), y_min=yy.min(), y_max=yy.max())\n"
          ],
          "name": "stderr"
        },
        {
          "output_type": "display_data",
          "data": {
            "image/png": "[encoded data removed]",
            "text/plain": [
              "<Figure size 1512x576 with 6 Axes>"
            ]
          },
          "metadata": {
            "tags": [],
            "needs_background": "light"
          }
        }
      ]
    },
    {
      "cell_type": "markdown",
      "metadata": {
        "id": "_1_kieD_hd65"
      },
      "source": [
        "**Задача 1.6 (0.5 балла)** Прокомментируйте результаты, полученные в задачах 1.3 и 1.5. Какое число соседей оптимально использовать для обучения классификатора? Поясните ваш выбор при помощи описания геометрии данных и получаемой решающей поверхности."
      ]
    },
    {
      "cell_type": "markdown",
      "metadata": {
        "id": "fCr3-xlMhd66"
      },
      "source": [
        "Как видно из графиков, вина 0-го и 1-го типа хорошо группируются по содержанию алкоголя и магния, в то время как вина 2-го типа пересекаются с винами 0-го и 1-го. Опыт показал, что 15 соседей -- наиболее оптимальный выбор между 1, 3, 5, 10, 15 и 25. С геометрической точки зрения, меньшее количество соседей не хватает для модели, чтобы отделить вина 2-го типа от остальных."
      ]
    },
    {
      "cell_type": "markdown",
      "metadata": {
        "id": "4gSP_yTShd66"
      },
      "source": [
        "### Задание 2: Обученная машина."
      ]
    },
    {
      "cell_type": "markdown",
      "metadata": {
        "id": "NmcJ49xehd67"
      },
      "source": [
        "В этом задании мы рассмотрим упрощённую идею того, как метод ближайших соседей можно применить при моделировании движения робота. \n",
        "\n",
        "Рассмотрим робота на дискретной двумерной плоскости, который за каждый момент дискретного времени может передвинуться на одну позицию вправо, влево, вверх или вниз. На плоскости разбросаны метки одного из четырёх классов, анализируя которые робот может (но не обязан) корректировать своё перемещение. Пусть метки класса 0 соответствуют сигналу переместиться вправо, метки класса 1 – влево, класса 2 – вверх, класса 3 – вниз. \n",
        "\n",
        "Передвижение робота осуществляется по следующему правилу: с вероятностью 0.2 робот передвинется вправо, и с вероятностью 0.8 – оценит, метки какого класса преобладают среди `k` его ближайших соседей, и передвинется в направлении этого доминирующего класса. \n",
        "\n",
        "Для лучшего понимания происходящего изобразим возможное положение робота и меток:"
      ]
    },
    {
      "cell_type": "code",
      "metadata": {
        "colab": {
          "base_uri": "https://localhost:8080/",
          "height": 228
        },
        "id": "9gfZExyehd67",
        "outputId": "e96bdc75-79af-4002-fc57-39ec6efab23c"
      },
      "source": [
        "np.random.seed(12345)\n",
        "x = np.arange(20)\n",
        "landmarks = x + np.round(np.random.normal(2, 8, 20)) # сгенерируем случайные метки\n",
        "random_classes = np.random.randint(0, 4, 20)\n",
        "\n",
        "fig, ax = plt.subplots(figsize = (10, 7))\n",
        "scatter = ax.scatter(x, landmarks, c = random_classes)\n",
        "ax.scatter(4, 7, c = 'r', marker = 'o', label = 'robot position')\n",
        "legend1 = ax.legend(*scatter.legend_elements(),\n",
        "                    loc = \"lower left\", title = \"Classes\")\n",
        "ax.add_artist(legend1)\n",
        "\n",
        "plt.plot()\n",
        "_ = plt.legend()\n",
        "_ = plt.grid()"
      ],
      "execution_count": null,
      "outputs": [
        {
          "output_type": "display_data",
          "data": {
            "image/png": "[encoded data removed]",
            "text/plain": [
              "<Figure size 720x504 with 1 Axes>"
            ]
          },
          "metadata": {
            "tags": [],
            "needs_background": "light"
          }
        }
      ]
    },
    {
      "cell_type": "markdown",
      "metadata": {
        "id": "fLtufQqshd6-"
      },
      "source": [
        "На следующем шаге робот передвинется на 1 либо вправо, либо в направлении, которое указывают ближайшие соседи."
      ]
    },
    {
      "cell_type": "markdown",
      "metadata": {
        "id": "oG2_6jp2hd6-"
      },
      "source": [
        "**Задача 2.1 (1.5 балла)** Реализуйте класс, который задаёт описанное поведение робота, используя шаблон ниже:\n",
        "1. Определите атрибуты `trajectory` (переменная для хранения истории перемещения робота в виде последовательности точек с двумя координатами) и `knn` (обученный kNN классификатор, который по позиции метки предсказывает её класс).\n",
        "2. Определите метод `move()`: рассчитайте новое положение робота по правилам выше и добавьте её в историю перемещений. Подсказка: исходы можно интерпретировать как результаты подбрасывания монетки с вероятностью орла, равной 0.2. Для моделирования такого подбрасывания можно использовать, например, `np.random.binomial()` с правильными параметрами. "
      ]
    },
    {
      "cell_type": "code",
      "metadata": {
        "id": "AN6TFjdyhd6_"
      },
      "source": [
        "class MobileRobot():\n",
        "    \n",
        "    def __init__(self, k, initial_position, landmarks, classes):\n",
        "        '''\n",
        "        Parameters:\n",
        "        -----------\n",
        "        k: int\n",
        "            Number of neighbours\n",
        "            \n",
        "        initial_position: ndarray\n",
        "            Initial position of the robot as a point, e.g. (-1, 1)\n",
        "            \n",
        "        landmarks: ndarray\n",
        "            numpy array of shape (n_landmarks, 2) with the euclidean positions of points\n",
        "        \n",
        "        classes: ndarray\n",
        "            numpy array of shape (n_landmarks, ) with class of landmark for each point in landmarks\n",
        "        \n",
        "        '''\n",
        "        # Store the history of movements\n",
        "        self.trajectory = [initial_position.copy()]\n",
        "        \n",
        "        self.pos = initial_position.copy()\n",
        "        \n",
        "        # kNN Classifier for determining the classes of landmarks\n",
        "        self.knn = KNeighborsClassifier(n_neighbors=k, p=2).fit(landmarks, classes)\n",
        "        \n",
        "        # Mapping between classes of points and movements\n",
        "        self.mapping = {0: np.array([1, 0]), \n",
        "                        1: np.array([-1, 0]),\n",
        "                        2: np.array([0, 1]),\n",
        "                        3: np.array([0, -1])}\n",
        "        \n",
        "    def move(self):\n",
        "        '''\n",
        "        Calculate new position of the robot and add it to the history\n",
        "        '''\n",
        "        go_right = np.random.binomial(1, 0.2)\n",
        "        \n",
        "        if go_right:\n",
        "            self.pos += self.mapping[0]\n",
        "            self.trajectory.append(self.pos.copy())\n",
        "        else:\n",
        "            pred = self.knn.predict(self.pos[np.newaxis, :])[0]\n",
        "            self.pos += self.mapping[pred]\n",
        "            self.trajectory.append(self.pos.copy())"
      ],
      "execution_count": null,
      "outputs": []
    },
    {
      "cell_type": "markdown",
      "metadata": {
        "id": "rNH9Z-kOhd7B"
      },
      "source": [
        "**Задача 2.2 (0.5 балла)** Дополните функцию `conduct_experiment`: определите переменную `traj` так, чтобы она содержала историю перемещения робота в виде двумерного массива numpy, в котором столбцы соответствуют координатам x и y соответствующей позиции."
      ]
    },
    {
      "cell_type": "code",
      "metadata": {
        "id": "TD8Nj95Whd7C"
      },
      "source": [
        "def conduct_experiment(x,\n",
        "                       mean = 0,\n",
        "                       std = 2, \n",
        "                       n_movements = 10, \n",
        "                       k = 3, \n",
        "                       initial_position = np.array([10, 20])):\n",
        "    \n",
        "    np.random.seed(12345)\n",
        "    # Generate random landmarks\n",
        "    landmarks = np.vstack((x, x + np.round(np.random.normal(mean, std, len(x))))).T\n",
        "    \n",
        "    # Generate random classes of landmarks\n",
        "    classes = np.random.randint(0, 4, size = len(x))\n",
        "    \n",
        "    # Conduct experiment\n",
        "    robot = MobileRobot(k, initial_position, landmarks, classes)\n",
        "    \n",
        "    for n in range(n_movements):\n",
        "        robot.move()\n",
        "\n",
        "    fig, ax = plt.subplots(figsize = (10, 8))\n",
        "    scatter = ax.scatter(landmarks[:, 0], landmarks[:, 1], c = classes)\n",
        "    legend1 = ax.legend(*scatter.legend_elements(),\n",
        "                        loc=\"lower left\", title=\"classes\")\n",
        "    ax.add_artist(legend1)\n",
        "    \n",
        "    ax.set_title(f'k = {k}')\n",
        "    \n",
        "    traj = np.array([[pos[0], pos[1]] for pos in robot.trajectory])\n",
        "    ax.plot(traj[:, 0], traj[:, 1], \n",
        "               c = 'r', marker = 'o', label = 'robot position')\n",
        "    plt.plot()\n",
        "    _ = plt.legend()\n",
        "    _ = plt.grid()"
      ],
      "execution_count": null,
      "outputs": []
    },
    {
      "cell_type": "code",
      "metadata": {
        "colab": {
          "base_uri": "https://localhost:8080/",
          "height": 264
        },
        "id": "wcG3Mr4uhd7D",
        "outputId": "ff523d6e-29ab-4828-b1ae-243421669529"
      },
      "source": [
        "x = np.arange(30)\n",
        "conduct_experiment(x, mean=3, std=10, k=5, n_movements=50)"
      ],
      "execution_count": null,
      "outputs": [
        {
          "output_type": "display_data",
          "data": {
            "image/png": "[encoded data removed]",
            "text/plain": [
              "<Figure size 720x576 with 1 Axes>"
            ]
          },
          "metadata": {
            "tags": [],
            "needs_background": "light"
          }
        }
      ]
    },
    {
      "cell_type": "markdown",
      "metadata": {
        "id": "RtVvbMK1hd7E"
      },
      "source": [
        "**Задача 2.3 (1 балл)** Как число соседей влияет на траекторию движения робота в нашем эксперименте? Постройте четыре графика с различным числом соседей на ваш выбор. А что было бы в случае, если классы назначаются меткам не случайно, а осмысленно? "
      ]
    },
    {
      "cell_type": "markdown",
      "metadata": {
        "id": "Qr-HYVWchd7F"
      },
      "source": [
        "При одном соседе робот двигается в зависимости от ближайшей точки, а при $k \\ge 30$ (общее число точек) робот всегда идёт в сторону, определяемую классом с большей численностью точек, с вероятностью 0.8 и вправо с вероятностью 0.2. Можно сказать, что регулируя число соседей $1 < k < 30$, мы увеличиваем (уменьшаем) поле зрения робота. При $k$ близких к общему числу точек, численность точек в каждой классе сильнее влияет на траекторию, когда при $k$ близких к 1, большее влияние оказывают близлижащие точки и начальное положение робота, как следствие. "
      ]
    },
    {
      "cell_type": "markdown",
      "metadata": {
        "id": "3pcJGY3bhd7F"
      },
      "source": [
        "Назначая классы меток осмысленно, мы можем контролировать движение робота."
      ]
    },
    {
      "cell_type": "code",
      "metadata": {
        "colab": {
          "base_uri": "https://localhost:8080/",
          "height": 1000
        },
        "id": "VcptRbNlhd7G",
        "outputId": "20b869c6-860f-4c8d-c594-a737b23c36f0"
      },
      "source": [
        "x = np.arange(30)\n",
        "for k in [1, 5, 25, 30]:\n",
        "    conduct_experiment(x, mean=3, std=10, k=k, n_movements=50)"
      ],
      "execution_count": null,
      "outputs": [
        {
          "output_type": "display_data",
          "data": {
            "image/png": "[encoded data removed]",
            "text/plain": [
              "<Figure size 720x576 with 1 Axes>"
            ]
          },
          "metadata": {
            "tags": [],
            "needs_background": "light"
          }
        },
        {
          "output_type": "display_data",
          "data": {
            "image/png": "[encoded data removed]",
            "text/plain": [
              "<Figure size 720x576 with 1 Axes>"
            ]
          },
          "metadata": {
            "tags": [],
            "needs_background": "light"
          }
        },
        {
          "output_type": "display_data",
          "data": {
            "image/png": "[encoded data removed]",
            "text/plain": [
              "<Figure size 720x576 with 1 Axes>"
            ]
          },
          "metadata": {
            "tags": [],
            "needs_background": "light"
          }
        },
        {
          "output_type": "display_data",
          "data": {
            "image/png": "[encoded data removed]",
            "text/plain": [
              "<Figure size 720x576 with 1 Axes>"
            ]
          },
          "metadata": {
            "tags": [],
            "needs_background": "light"
          }
        }
      ]
    },
    {
      "cell_type": "markdown",
      "metadata": {
        "id": "lezlQMS-hd7G"
      },
      "source": [
        "### Задание 3: Линейная регрессия."
      ]
    },
    {
      "cell_type": "markdown",
      "metadata": {
        "id": "wmYRlfxmhd7H"
      },
      "source": [
        "В этом задании мы рассмотрим различные аспекты построения линейной модели. Мы будем работать с одним из классических наборов данных в статистике, содержащим информацию о бриллиантах. Описание можно посмотреть [здесь](https://www.kaggle.com/shivam2503/diamonds)."
      ]
    },
    {
      "cell_type": "code",
      "metadata": {
        "colab": {
          "base_uri": "https://localhost:8080/",
          "height": 240
        },
        "id": "TVtd0yzlhd7H",
        "outputId": "45828e93-fb49-4f7f-d1c7-5730ef39933f"
      },
      "source": [
        "data = pd.read_csv('https://raw.githubusercontent.com/hse-ds/iad-intro-ds/master/2021/homeworks/hw04-knn_linreg/data/diamonds.csv')\n",
        "data.head(5)"
      ],
      "execution_count": null,
      "outputs": [
        {
          "output_type": "execute_result",
          "data": {
            "text/html": [
              "<div>\n",
              "<style scoped>\n",
              "    .dataframe tbody tr th:only-of-type {\n",
              "        vertical-align: middle;\n",
              "    }\n",
              "\n",
              "    .dataframe tbody tr th {\n",
              "        vertical-align: top;\n",
              "    }\n",
              "\n",
              "    .dataframe thead th {\n",
              "        text-align: right;\n",
              "    }\n",
              "</style>\n",
              "<table border=\"1\" class=\"dataframe\">\n",
              "  <thead>\n",
              "    <tr style=\"text-align: right;\">\n",
              "      <th></th>\n",
              "      <th>Unnamed: 0</th>\n",
              "      <th>carat</th>\n",
              "      <th>cut</th>\n",
              "      <th>color</th>\n",
              "      <th>clarity</th>\n",
              "      <th>depth</th>\n",
              "      <th>table</th>\n",
              "      <th>price</th>\n",
              "      <th>x</th>\n",
              "      <th>y</th>\n",
              "      <th>z</th>\n",
              "    </tr>\n",
              "  </thead>\n",
              "  <tbody>\n",
              "    <tr>\n",
              "      <th>0</th>\n",
              "      <td>1</td>\n",
              "      <td>0.23</td>\n",
              "      <td>Ideal</td>\n",
              "      <td>E</td>\n",
              "      <td>SI2</td>\n",
              "      <td>61.5</td>\n",
              "      <td>55.0</td>\n",
              "      <td>326</td>\n",
              "      <td>3.95</td>\n",
              "      <td>3.98</td>\n",
              "      <td>2.43</td>\n",
              "    </tr>\n",
              "    <tr>\n",
              "      <th>1</th>\n",
              "      <td>2</td>\n",
              "      <td>0.21</td>\n",
              "      <td>Premium</td>\n",
              "      <td>E</td>\n",
              "      <td>SI1</td>\n",
              "      <td>59.8</td>\n",
              "      <td>61.0</td>\n",
              "      <td>326</td>\n",
              "      <td>3.89</td>\n",
              "      <td>3.84</td>\n",
              "      <td>2.31</td>\n",
              "    </tr>\n",
              "    <tr>\n",
              "      <th>2</th>\n",
              "      <td>3</td>\n",
              "      <td>0.23</td>\n",
              "      <td>Good</td>\n",
              "      <td>E</td>\n",
              "      <td>VS1</td>\n",
              "      <td>56.9</td>\n",
              "      <td>65.0</td>\n",
              "      <td>327</td>\n",
              "      <td>4.05</td>\n",
              "      <td>4.07</td>\n",
              "      <td>2.31</td>\n",
              "    </tr>\n",
              "    <tr>\n",
              "      <th>3</th>\n",
              "      <td>4</td>\n",
              "      <td>0.29</td>\n",
              "      <td>Premium</td>\n",
              "      <td>I</td>\n",
              "      <td>VS2</td>\n",
              "      <td>62.4</td>\n",
              "      <td>58.0</td>\n",
              "      <td>334</td>\n",
              "      <td>4.20</td>\n",
              "      <td>4.23</td>\n",
              "      <td>2.63</td>\n",
              "    </tr>\n",
              "    <tr>\n",
              "      <th>4</th>\n",
              "      <td>5</td>\n",
              "      <td>0.31</td>\n",
              "      <td>Good</td>\n",
              "      <td>J</td>\n",
              "      <td>SI2</td>\n",
              "      <td>63.3</td>\n",
              "      <td>58.0</td>\n",
              "      <td>335</td>\n",
              "      <td>4.34</td>\n",
              "      <td>4.35</td>\n",
              "      <td>2.75</td>\n",
              "    </tr>\n",
              "  </tbody>\n",
              "</table>\n",
              "</div>"
            ],
            "text/plain": [
              "   Unnamed: 0  carat      cut color clarity  ...  table  price     x     y     z\n",
              "0           1   0.23    Ideal     E     SI2  ...   55.0    326  3.95  3.98  2.43\n",
              "1           2   0.21  Premium     E     SI1  ...   61.0    326  3.89  3.84  2.31\n",
              "2           3   0.23     Good     E     VS1  ...   65.0    327  4.05  4.07  2.31\n",
              "3           4   0.29  Premium     I     VS2  ...   58.0    334  4.20  4.23  2.63\n",
              "4           5   0.31     Good     J     SI2  ...   58.0    335  4.34  4.35  2.75\n",
              "\n",
              "[5 rows x 11 columns]"
            ]
          },
          "metadata": {
            "tags": []
          },
          "execution_count": 72
        }
      ]
    },
    {
      "cell_type": "markdown",
      "metadata": {
        "id": "nIN1bgWshd7I"
      },
      "source": [
        "Мы будем решать задачу предсказания цены бриллианта `price` в зависимости от его характеристик."
      ]
    },
    {
      "cell_type": "markdown",
      "metadata": {
        "id": "SNJLAAWchd7I"
      },
      "source": [
        "**Задача 3.1 (0.1 балла)** Есть ли в наборе данных пропущенные значения? Если да, удалите их. "
      ]
    },
    {
      "cell_type": "code",
      "metadata": {
        "colab": {
          "base_uri": "https://localhost:8080/"
        },
        "id": "RJvQnCmKhd7I",
        "outputId": "d5c4234f-a040-49ae-b699-4bef6f2409f2"
      },
      "source": [
        "data.isnull().sum()"
      ],
      "execution_count": null,
      "outputs": [
        {
          "output_type": "execute_result",
          "data": {
            "text/plain": [
              "Unnamed: 0    0\n",
              "carat         0\n",
              "cut           0\n",
              "color         0\n",
              "clarity       0\n",
              "depth         0\n",
              "table         0\n",
              "price         0\n",
              "x             0\n",
              "y             0\n",
              "z             0\n",
              "dtype: int64"
            ]
          },
          "metadata": {
            "tags": []
          },
          "execution_count": 44
        }
      ]
    },
    {
      "cell_type": "code",
      "metadata": {
        "colab": {
          "base_uri": "https://localhost:8080/",
          "height": 721
        },
        "id": "dtZcIey6hd7J",
        "outputId": "09d701ce-e7ec-4d8f-f88b-93e86f4e6605"
      },
      "source": [
        "zero_length = (data['x'] == 0) | (data['y'] == 0) | (data['z'] == 0)\n",
        "data[zero_length]"
      ],
      "execution_count": null,
      "outputs": [
        {
          "output_type": "execute_result",
          "data": {
            "text/html": [
              "<div>\n",
              "<style scoped>\n",
              "    .dataframe tbody tr th:only-of-type {\n",
              "        vertical-align: middle;\n",
              "    }\n",
              "\n",
              "    .dataframe tbody tr th {\n",
              "        vertical-align: top;\n",
              "    }\n",
              "\n",
              "    .dataframe thead th {\n",
              "        text-align: right;\n",
              "    }\n",
              "</style>\n",
              "<table border=\"1\" class=\"dataframe\">\n",
              "  <thead>\n",
              "    <tr style=\"text-align: right;\">\n",
              "      <th></th>\n",
              "      <th>Unnamed: 0</th>\n",
              "      <th>carat</th>\n",
              "      <th>cut</th>\n",
              "      <th>color</th>\n",
              "      <th>clarity</th>\n",
              "      <th>depth</th>\n",
              "      <th>table</th>\n",
              "      <th>price</th>\n",
              "      <th>x</th>\n",
              "      <th>y</th>\n",
              "      <th>z</th>\n",
              "    </tr>\n",
              "  </thead>\n",
              "  <tbody>\n",
              "    <tr>\n",
              "      <th>2207</th>\n",
              "      <td>2208</td>\n",
              "      <td>1.00</td>\n",
              "      <td>Premium</td>\n",
              "      <td>G</td>\n",
              "      <td>SI2</td>\n",
              "      <td>59.1</td>\n",
              "      <td>59.0</td>\n",
              "      <td>3142</td>\n",
              "      <td>6.55</td>\n",
              "      <td>6.48</td>\n",
              "      <td>0.0</td>\n",
              "    </tr>\n",
              "    <tr>\n",
              "      <th>2314</th>\n",
              "      <td>2315</td>\n",
              "      <td>1.01</td>\n",
              "      <td>Premium</td>\n",
              "      <td>H</td>\n",
              "      <td>I1</td>\n",
              "      <td>58.1</td>\n",
              "      <td>59.0</td>\n",
              "      <td>3167</td>\n",
              "      <td>6.66</td>\n",
              "      <td>6.60</td>\n",
              "      <td>0.0</td>\n",
              "    </tr>\n",
              "    <tr>\n",
              "      <th>4791</th>\n",
              "      <td>4792</td>\n",
              "      <td>1.10</td>\n",
              "      <td>Premium</td>\n",
              "      <td>G</td>\n",
              "      <td>SI2</td>\n",
              "      <td>63.0</td>\n",
              "      <td>59.0</td>\n",
              "      <td>3696</td>\n",
              "      <td>6.50</td>\n",
              "      <td>6.47</td>\n",
              "      <td>0.0</td>\n",
              "    </tr>\n",
              "    <tr>\n",
              "      <th>5471</th>\n",
              "      <td>5472</td>\n",
              "      <td>1.01</td>\n",
              "      <td>Premium</td>\n",
              "      <td>F</td>\n",
              "      <td>SI2</td>\n",
              "      <td>59.2</td>\n",
              "      <td>58.0</td>\n",
              "      <td>3837</td>\n",
              "      <td>6.50</td>\n",
              "      <td>6.47</td>\n",
              "      <td>0.0</td>\n",
              "    </tr>\n",
              "    <tr>\n",
              "      <th>10167</th>\n",
              "      <td>10168</td>\n",
              "      <td>1.50</td>\n",
              "      <td>Good</td>\n",
              "      <td>G</td>\n",
              "      <td>I1</td>\n",
              "      <td>64.0</td>\n",
              "      <td>61.0</td>\n",
              "      <td>4731</td>\n",
              "      <td>7.15</td>\n",
              "      <td>7.04</td>\n",
              "      <td>0.0</td>\n",
              "    </tr>\n",
              "    <tr>\n",
              "      <th>11182</th>\n",
              "      <td>11183</td>\n",
              "      <td>1.07</td>\n",
              "      <td>Ideal</td>\n",
              "      <td>F</td>\n",
              "      <td>SI2</td>\n",
              "      <td>61.6</td>\n",
              "      <td>56.0</td>\n",
              "      <td>4954</td>\n",
              "      <td>0.00</td>\n",
              "      <td>6.62</td>\n",
              "      <td>0.0</td>\n",
              "    </tr>\n",
              "    <tr>\n",
              "      <th>11963</th>\n",
              "      <td>11964</td>\n",
              "      <td>1.00</td>\n",
              "      <td>Very Good</td>\n",
              "      <td>H</td>\n",
              "      <td>VS2</td>\n",
              "      <td>63.3</td>\n",
              "      <td>53.0</td>\n",
              "      <td>5139</td>\n",
              "      <td>0.00</td>\n",
              "      <td>0.00</td>\n",
              "      <td>0.0</td>\n",
              "    </tr>\n",
              "    <tr>\n",
              "      <th>13601</th>\n",
              "      <td>13602</td>\n",
              "      <td>1.15</td>\n",
              "      <td>Ideal</td>\n",
              "      <td>G</td>\n",
              "      <td>VS2</td>\n",
              "      <td>59.2</td>\n",
              "      <td>56.0</td>\n",
              "      <td>5564</td>\n",
              "      <td>6.88</td>\n",
              "      <td>6.83</td>\n",
              "      <td>0.0</td>\n",
              "    </tr>\n",
              "    <tr>\n",
              "      <th>15951</th>\n",
              "      <td>15952</td>\n",
              "      <td>1.14</td>\n",
              "      <td>Fair</td>\n",
              "      <td>G</td>\n",
              "      <td>VS1</td>\n",
              "      <td>57.5</td>\n",
              "      <td>67.0</td>\n",
              "      <td>6381</td>\n",
              "      <td>0.00</td>\n",
              "      <td>0.00</td>\n",
              "      <td>0.0</td>\n",
              "    </tr>\n",
              "    <tr>\n",
              "      <th>24394</th>\n",
              "      <td>24395</td>\n",
              "      <td>2.18</td>\n",
              "      <td>Premium</td>\n",
              "      <td>H</td>\n",
              "      <td>SI2</td>\n",
              "      <td>59.4</td>\n",
              "      <td>61.0</td>\n",
              "      <td>12631</td>\n",
              "      <td>8.49</td>\n",
              "      <td>8.45</td>\n",
              "      <td>0.0</td>\n",
              "    </tr>\n",
              "    <tr>\n",
              "      <th>24520</th>\n",
              "      <td>24521</td>\n",
              "      <td>1.56</td>\n",
              "      <td>Ideal</td>\n",
              "      <td>G</td>\n",
              "      <td>VS2</td>\n",
              "      <td>62.2</td>\n",
              "      <td>54.0</td>\n",
              "      <td>12800</td>\n",
              "      <td>0.00</td>\n",
              "      <td>0.00</td>\n",
              "      <td>0.0</td>\n",
              "    </tr>\n",
              "    <tr>\n",
              "      <th>26123</th>\n",
              "      <td>26124</td>\n",
              "      <td>2.25</td>\n",
              "      <td>Premium</td>\n",
              "      <td>I</td>\n",
              "      <td>SI1</td>\n",
              "      <td>61.3</td>\n",
              "      <td>58.0</td>\n",
              "      <td>15397</td>\n",
              "      <td>8.52</td>\n",
              "      <td>8.42</td>\n",
              "      <td>0.0</td>\n",
              "    </tr>\n",
              "    <tr>\n",
              "      <th>26243</th>\n",
              "      <td>26244</td>\n",
              "      <td>1.20</td>\n",
              "      <td>Premium</td>\n",
              "      <td>D</td>\n",
              "      <td>VVS1</td>\n",
              "      <td>62.1</td>\n",
              "      <td>59.0</td>\n",
              "      <td>15686</td>\n",
              "      <td>0.00</td>\n",
              "      <td>0.00</td>\n",
              "      <td>0.0</td>\n",
              "    </tr>\n",
              "    <tr>\n",
              "      <th>27112</th>\n",
              "      <td>27113</td>\n",
              "      <td>2.20</td>\n",
              "      <td>Premium</td>\n",
              "      <td>H</td>\n",
              "      <td>SI1</td>\n",
              "      <td>61.2</td>\n",
              "      <td>59.0</td>\n",
              "      <td>17265</td>\n",
              "      <td>8.42</td>\n",
              "      <td>8.37</td>\n",
              "      <td>0.0</td>\n",
              "    </tr>\n",
              "    <tr>\n",
              "      <th>27429</th>\n",
              "      <td>27430</td>\n",
              "      <td>2.25</td>\n",
              "      <td>Premium</td>\n",
              "      <td>H</td>\n",
              "      <td>SI2</td>\n",
              "      <td>62.8</td>\n",
              "      <td>59.0</td>\n",
              "      <td>18034</td>\n",
              "      <td>0.00</td>\n",
              "      <td>0.00</td>\n",
              "      <td>0.0</td>\n",
              "    </tr>\n",
              "    <tr>\n",
              "      <th>27503</th>\n",
              "      <td>27504</td>\n",
              "      <td>2.02</td>\n",
              "      <td>Premium</td>\n",
              "      <td>H</td>\n",
              "      <td>VS2</td>\n",
              "      <td>62.7</td>\n",
              "      <td>53.0</td>\n",
              "      <td>18207</td>\n",
              "      <td>8.02</td>\n",
              "      <td>7.95</td>\n",
              "      <td>0.0</td>\n",
              "    </tr>\n",
              "    <tr>\n",
              "      <th>27739</th>\n",
              "      <td>27740</td>\n",
              "      <td>2.80</td>\n",
              "      <td>Good</td>\n",
              "      <td>G</td>\n",
              "      <td>SI2</td>\n",
              "      <td>63.8</td>\n",
              "      <td>58.0</td>\n",
              "      <td>18788</td>\n",
              "      <td>8.90</td>\n",
              "      <td>8.85</td>\n",
              "      <td>0.0</td>\n",
              "    </tr>\n",
              "    <tr>\n",
              "      <th>49556</th>\n",
              "      <td>49557</td>\n",
              "      <td>0.71</td>\n",
              "      <td>Good</td>\n",
              "      <td>F</td>\n",
              "      <td>SI2</td>\n",
              "      <td>64.1</td>\n",
              "      <td>60.0</td>\n",
              "      <td>2130</td>\n",
              "      <td>0.00</td>\n",
              "      <td>0.00</td>\n",
              "      <td>0.0</td>\n",
              "    </tr>\n",
              "    <tr>\n",
              "      <th>49557</th>\n",
              "      <td>49558</td>\n",
              "      <td>0.71</td>\n",
              "      <td>Good</td>\n",
              "      <td>F</td>\n",
              "      <td>SI2</td>\n",
              "      <td>64.1</td>\n",
              "      <td>60.0</td>\n",
              "      <td>2130</td>\n",
              "      <td>0.00</td>\n",
              "      <td>0.00</td>\n",
              "      <td>0.0</td>\n",
              "    </tr>\n",
              "    <tr>\n",
              "      <th>51506</th>\n",
              "      <td>51507</td>\n",
              "      <td>1.12</td>\n",
              "      <td>Premium</td>\n",
              "      <td>G</td>\n",
              "      <td>I1</td>\n",
              "      <td>60.4</td>\n",
              "      <td>59.0</td>\n",
              "      <td>2383</td>\n",
              "      <td>6.71</td>\n",
              "      <td>6.67</td>\n",
              "      <td>0.0</td>\n",
              "    </tr>\n",
              "  </tbody>\n",
              "</table>\n",
              "</div>"
            ],
            "text/plain": [
              "       Unnamed: 0  carat        cut color  ...  price     x     y    z\n",
              "2207         2208   1.00    Premium     G  ...   3142  6.55  6.48  0.0\n",
              "2314         2315   1.01    Premium     H  ...   3167  6.66  6.60  0.0\n",
              "4791         4792   1.10    Premium     G  ...   3696  6.50  6.47  0.0\n",
              "5471         5472   1.01    Premium     F  ...   3837  6.50  6.47  0.0\n",
              "10167       10168   1.50       Good     G  ...   4731  7.15  7.04  0.0\n",
              "11182       11183   1.07      Ideal     F  ...   4954  0.00  6.62  0.0\n",
              "11963       11964   1.00  Very Good     H  ...   5139  0.00  0.00  0.0\n",
              "13601       13602   1.15      Ideal     G  ...   5564  6.88  6.83  0.0\n",
              "15951       15952   1.14       Fair     G  ...   6381  0.00  0.00  0.0\n",
              "24394       24395   2.18    Premium     H  ...  12631  8.49  8.45  0.0\n",
              "24520       24521   1.56      Ideal     G  ...  12800  0.00  0.00  0.0\n",
              "26123       26124   2.25    Premium     I  ...  15397  8.52  8.42  0.0\n",
              "26243       26244   1.20    Premium     D  ...  15686  0.00  0.00  0.0\n",
              "27112       27113   2.20    Premium     H  ...  17265  8.42  8.37  0.0\n",
              "27429       27430   2.25    Premium     H  ...  18034  0.00  0.00  0.0\n",
              "27503       27504   2.02    Premium     H  ...  18207  8.02  7.95  0.0\n",
              "27739       27740   2.80       Good     G  ...  18788  8.90  8.85  0.0\n",
              "49556       49557   0.71       Good     F  ...   2130  0.00  0.00  0.0\n",
              "49557       49558   0.71       Good     F  ...   2130  0.00  0.00  0.0\n",
              "51506       51507   1.12    Premium     G  ...   2383  6.71  6.67  0.0\n",
              "\n",
              "[20 rows x 11 columns]"
            ]
          },
          "metadata": {
            "tags": []
          },
          "execution_count": 73
        }
      ]
    },
    {
      "cell_type": "code",
      "metadata": {
        "id": "z4oNAAGDhd7K"
      },
      "source": [
        "data = data.drop(index=data[zero_length].index)"
      ],
      "execution_count": null,
      "outputs": []
    },
    {
      "cell_type": "code",
      "metadata": {
        "colab": {
          "base_uri": "https://localhost:8080/"
        },
        "id": "5ssRLLTehd7K",
        "outputId": "13492864-ff30-45c1-a72f-3b67f4adf636"
      },
      "source": [
        "for i in [ 'cut', 'color', 'clarity']:\n",
        "    print(data[i].unique())"
      ],
      "execution_count": null,
      "outputs": [
        {
          "output_type": "stream",
          "text": [
            "['Ideal' 'Premium' 'Good' 'Very Good' 'Fair']\n",
            "['E' 'I' 'J' 'H' 'F' 'G' 'D']\n",
            "['SI2' 'SI1' 'VS1' 'VS2' 'VVS2' 'VVS1' 'I1' 'IF']\n"
          ],
          "name": "stdout"
        }
      ]
    },
    {
      "cell_type": "markdown",
      "metadata": {
        "id": "jZNnnDh6hd7K"
      },
      "source": [
        "**Задача 3.2 (0.1 балла)** Есть ли в наборе данных бессмысленные столбцы (признаки, не несущие дополнительной информации)? Если да, то удалите их."
      ]
    },
    {
      "cell_type": "markdown",
      "metadata": {
        "id": "ALSrUrJPhd7L"
      },
      "source": [
        "Удалим столбец индексов."
      ]
    },
    {
      "cell_type": "code",
      "metadata": {
        "id": "4o2E7cQ1hd7L"
      },
      "source": [
        "data.drop(columns=['Unnamed: 0'], inplace=True)"
      ],
      "execution_count": null,
      "outputs": []
    },
    {
      "cell_type": "markdown",
      "metadata": {
        "id": "a4lmxj92hd7M"
      },
      "source": [
        "**Задача 3.3 (0.1 балла)** Линейная регрессия основана на предположении о линейной связи между признаками и целевой переменной, а потому перед выбором переменных для включения в модель имеет смысл проверить, насколько эта связь выполняется. Для следующих пунктов нам также потребуются выборочные корреляции между признаками. Выведите матрицу выборочных корреляций между всеми вещественными признаками и целевой переменной (то есть в этой матрице будет $k+1$ строка, где $k$ – количество вещественных признаков).\n",
        "\n",
        "Какие вещественные признаки коррелируют с целевой переменной больше всего?"
      ]
    },
    {
      "cell_type": "code",
      "metadata": {
        "id": "-gM5bgYphd7M"
      },
      "source": [
        "import seaborn as sns"
      ],
      "execution_count": null,
      "outputs": []
    },
    {
      "cell_type": "markdown",
      "metadata": {
        "id": "bKPb6nSChd7M"
      },
      "source": [
        "Наибольшая корреляция между ценой и весом алмаза в каратах:\n",
        "\n",
        "$$\n",
        "corr(\\text{price, carat}) \\approx 0.92\n",
        "$$\n",
        "\n",
        "Чуть меньше, но всё ещё большая корреляция между ценой и размерами алмаза:\n",
        "\n",
        "$$\n",
        "corr(\\text{price, x}) \\approx 0.89 \\newline\n",
        "corr(\\text{price, y}) \\approx 0.87 \\newline\n",
        "corr(\\text{price, z}) \\approx 0.87\n",
        "$$\n",
        "\n",
        "С оставшимися вещественными признаками цена коррелирует плохо."
      ]
    },
    {
      "cell_type": "code",
      "metadata": {
        "colab": {
          "base_uri": "https://localhost:8080/",
          "height": 229
        },
        "id": "4xzCm47Ohd7N",
        "outputId": "b83196a6-6e56-49d7-d345-72c9b081323a"
      },
      "source": [
        "fig, ax = plt.subplots(figsize=(16, 10))\n",
        " \n",
        "sns.heatmap(data.corr(), annot=True, ax=ax)\n",
        "ax.set_title('Features correlation matrix', size=16);"
      ],
      "execution_count": null,
      "outputs": [
        {
          "output_type": "display_data",
          "data": {
            "image/png": "[encoded data removed]",
            "text/plain": [
              "<Figure size 1152x720 with 2 Axes>"
            ]
          },
          "metadata": {
            "tags": [],
            "needs_background": "light"
          }
        }
      ]
    },
    {
      "cell_type": "markdown",
      "metadata": {
        "id": "54PJNPS6hd7N"
      },
      "source": [
        "**Задача 3.4 (0.1 балла)** Так как линейная модель складывает значения признаков с некоторыми весами, нам нужно аккуратно обработать категориальные признаки. Закодируйте категориальные переменные при помощи OneHot-кодирования."
      ]
    },
    {
      "cell_type": "code",
      "metadata": {
        "id": "VCtCWy9mhd7O"
      },
      "source": [
        "from sklearn.preprocessing import OneHotEncoder"
      ],
      "execution_count": null,
      "outputs": []
    },
    {
      "cell_type": "code",
      "metadata": {
        "id": "BTShEw4chd7O"
      },
      "source": [
        "ohe = OneHotEncoder()\n",
        "cat_features = data.dtypes == 'object'\n",
        " \n",
        "cat_features_encoded = ohe.fit_transform(data[data.columns[cat_features]]).toarray()\n",
        "num_features = data[data.columns[~cat_features]].drop(columns=['price']).to_numpy()\n",
        " \n",
        "X = np.concatenate([num_features, cat_features_encoded], axis=1)\n",
        "y = data['price'].to_numpy()"
      ],
      "execution_count": null,
      "outputs": []
    },
    {
      "cell_type": "code",
      "metadata": {
        "colab": {
          "base_uri": "https://localhost:8080/"
        },
        "id": "oiUsMSwwhd7O",
        "outputId": "461c1105-6695-4286-b393-072db212f7cc"
      },
      "source": [
        "data.columns[~cat_features]"
      ],
      "execution_count": null,
      "outputs": [
        {
          "output_type": "execute_result",
          "data": {
            "text/plain": [
              "Index(['carat', 'depth', 'table', 'price', 'x', 'y', 'z'], dtype='object')"
            ]
          },
          "metadata": {
            "tags": []
          },
          "execution_count": 81
        }
      ]
    },
    {
      "cell_type": "code",
      "metadata": {
        "colab": {
          "base_uri": "https://localhost:8080/"
        },
        "id": "iP9weC5Shd7P",
        "outputId": "3bac8278-73ea-47b9-feee-942e34f833b6"
      },
      "source": [
        "data.columns[cat_features]"
      ],
      "execution_count": null,
      "outputs": [
        {
          "output_type": "execute_result",
          "data": {
            "text/plain": [
              "Index(['cut', 'color', 'clarity'], dtype='object')"
            ]
          },
          "metadata": {
            "tags": []
          },
          "execution_count": 82
        }
      ]
    },
    {
      "cell_type": "code",
      "metadata": {
        "colab": {
          "base_uri": "https://localhost:8080/"
        },
        "id": "vOx1KI3Ihd7P",
        "outputId": "75b71fdb-3704-467e-bdee-c76bdc8a93a8"
      },
      "source": [
        "X"
      ],
      "execution_count": null,
      "outputs": [
        {
          "output_type": "execute_result",
          "data": {
            "text/plain": [
              "array([[ 0.23, 61.5 , 55.  , ...,  0.  ,  0.  ,  0.  ],\n",
              "       [ 0.21, 59.8 , 61.  , ...,  0.  ,  0.  ,  0.  ],\n",
              "       [ 0.23, 56.9 , 65.  , ...,  0.  ,  0.  ,  0.  ],\n",
              "       ...,\n",
              "       [ 0.7 , 62.8 , 60.  , ...,  0.  ,  0.  ,  0.  ],\n",
              "       [ 0.86, 61.  , 58.  , ...,  0.  ,  0.  ,  0.  ],\n",
              "       [ 0.75, 62.2 , 55.  , ...,  0.  ,  0.  ,  0.  ]])"
            ]
          },
          "metadata": {
            "tags": []
          },
          "execution_count": 83
        }
      ]
    },
    {
      "cell_type": "markdown",
      "metadata": {
        "id": "y__vOi0Chd7Q"
      },
      "source": [
        "**Задача 3.5 (0.2 балла)** Разделите выборку на тренировочную и тестовую. Долю тестовой выборки укажите равной 0.3."
      ]
    },
    {
      "cell_type": "code",
      "metadata": {
        "id": "kFl_vPMGhd7Q"
      },
      "source": [
        "from sklearn.model_selection import train_test_split"
      ],
      "execution_count": null,
      "outputs": []
    },
    {
      "cell_type": "code",
      "metadata": {
        "id": "t00KtSSOhd7R"
      },
      "source": [
        "X_train, X_test, y_train, y_test = train_test_split(X, y, test_size=0.3, random_state=25022021)"
      ],
      "execution_count": null,
      "outputs": []
    },
    {
      "cell_type": "markdown",
      "metadata": {
        "id": "LyQlmRPchd7R"
      },
      "source": [
        "**Задача 3.6 (0.3 балла)** Зачастую при использовании линейных моделей вещественные признаки масштабируются. При этом оценки коэффициентов теряют прямую статистическую интерпретацию (\"при увеличении $X_1$ на 1, $y$ увеличивается на $w_1$\"), но приобретают свойства, полезные в задачах машинного обучения. В этой задаче масштабируйте вещественные признаки тренировочной и тестовой выборок при помощи модуля `StandardScaler`."
      ]
    },
    {
      "cell_type": "code",
      "metadata": {
        "id": "rbKKT_9Yhd7R"
      },
      "source": [
        "from sklearn.preprocessing import StandardScaler"
      ],
      "execution_count": null,
      "outputs": []
    },
    {
      "cell_type": "code",
      "metadata": {
        "id": "5XzFlL1-hd7S"
      },
      "source": [
        "scaler = StandardScaler()\n",
        " \n",
        "X_train_scaled = scaler.fit_transform(X_train)\n",
        "X_test_scaled = scaler.transform(X_test)"
      ],
      "execution_count": null,
      "outputs": []
    },
    {
      "cell_type": "markdown",
      "metadata": {
        "id": "z4ZRv8eHhd7S"
      },
      "source": [
        "**Задача 3.7 (0.2 балла)** Оцените линейную регрессию на тренировочной выборке. Выведите среднеквадратичную ошибку на тренировочной и тестовой выборках."
      ]
    },
    {
      "cell_type": "code",
      "metadata": {
        "id": "fi7XlzTbhd7S"
      },
      "source": [
        "from sklearn.linear_model import LinearRegression\n",
        "from sklearn.metrics import mean_squared_error"
      ],
      "execution_count": null,
      "outputs": []
    },
    {
      "cell_type": "code",
      "metadata": {
        "colab": {
          "base_uri": "https://localhost:8080/"
        },
        "id": "_jxUj9CWhd7T",
        "outputId": "38ac2082-21da-4851-cc3b-0278e0a66d57"
      },
      "source": [
        "linreg = LinearRegression().fit(X_train_scaled, y_train)\n",
        " \n",
        "print(f'Train: {mean_squared_error(y_train, linreg.predict(X_train_scaled))}')\n",
        "print(f'Test: {mean_squared_error(y_test, linreg.predict(X_test_scaled))}')"
      ],
      "execution_count": null,
      "outputs": [
        {
          "output_type": "stream",
          "text": [
            "Train: 1242621.7475095263\n",
            "Test: 1498264.4179665092\n"
          ],
          "name": "stdout"
        }
      ]
    },
    {
      "cell_type": "markdown",
      "metadata": {
        "id": "3kqu-4xthd7T"
      },
      "source": [
        "**Задача 3.8 (0.2 балла)** Изучите документацию модуля `LinearRegression` и выведите полученные оценки коэффициентов. Назовите вещественные переменные, оценки коэффициентов которых по модулю на порядок превышают оценки прочих вещественных переменных."
      ]
    },
    {
      "cell_type": "markdown",
      "metadata": {
        "id": "x2yMNUaWhd7U"
      },
      "source": [
        "Оценки коэффициентов при категориальных признаках, закодированных методом OneHotEncoding, на порядок больше числовых (`carat`, `depth`, `table`, `x`, `y`, `z`)."
      ]
    },
    {
      "cell_type": "code",
      "metadata": {
        "colab": {
          "base_uri": "https://localhost:8080/"
        },
        "id": "E27vWPUFhd7U",
        "outputId": "90c4f2a5-2c40-45ff-ef24-3804952a6a2c"
      },
      "source": [
        "linreg.coef_"
      ],
      "execution_count": null,
      "outputs": [
        {
          "output_type": "execute_result",
          "data": {
            "text/plain": [
              "array([ 5.48686737e+03, -9.69135592e+01, -6.39761644e+01, -2.23782719e+03,\n",
              "        9.98662980e+02, -8.58652543e+01, -1.24872463e+14, -2.14685170e+14,\n",
              "       -3.64702895e+14, -3.24873037e+14, -3.10733071e+14,  8.45502013e+13,\n",
              "        9.82968823e+13,  9.78420191e+13,  1.04373292e+14,  9.24879993e+13,\n",
              "        7.69553986e+13,  5.69705574e+13,  2.03698642e+13,  3.19834889e+13,\n",
              "        7.62121699e+13,  6.65638104e+13,  6.38445174e+13,  7.43018357e+13,\n",
              "        4.49006937e+13,  5.18212993e+13])"
            ]
          },
          "metadata": {
            "tags": []
          },
          "execution_count": 90
        }
      ]
    },
    {
      "cell_type": "markdown",
      "metadata": {
        "id": "C413wssxhd7V"
      },
      "source": [
        "**Задача 3.9 (0.4 балла)** Как можно заметить из анализа корреляционной матрицы в задаче 3.3, между некоторыми признаками имеется сильная корреляция, что может быть индикатором проблемы *мультиколлинеарности*. Различия в порядке коэффициентов, выявленные в предыдущей задаче также намекают на её присутствие. Как известно, для решения этой проблемы можно либо исключить некоторые признаки из модели, либо использовать регуляризацию. Мы воспользуемся вторым вариантом. \n",
        "\n",
        "Вспомним, что смысл регуляризации заключается в том, чтобы изменить функцию потерь так, чтобы устранить проблемы, появляющиеся из-за мультиколлинеарности. При L1-регуляризации предлагается минимизировать следующую функцию потерь:\n",
        "\n",
        "$$\n",
        "\\|y - X\\hat{w}\\|^2 + \\alpha\\sum_{i=1}^k|w_i|\n",
        "$$\n",
        "\n",
        "Такая модель называется Lasso-регрессией.\n",
        "\n",
        "При L2-регуляризации предлагается минимизировать следующую функцию потерь:\n",
        "\n",
        "$$\n",
        "\\|y - X\\hat{w}\\|^2 + \\frac{1}{2}\\alpha\\|w\\|^2\n",
        "$$\n",
        "\n",
        "Такая модель называется Ridge-регрессией. \n",
        "\n",
        "Обучите Lasso-регрессию и Ridge-регрессию, уставновив гиперпараметр регуляризации равным 10. Для этого используйте модули `Lasso` и `Ridge` из `sklearn`. Сильно ли уменьшились веса? Сделайте вывод о том, насколько сильно проблема мультиколлинеарности проявлялась в изначальной регрессии."
      ]
    },
    {
      "cell_type": "code",
      "metadata": {
        "id": "2QgDRVJvhd7V"
      },
      "source": [
        " "
      ],
      "execution_count": null,
      "outputs": []
    },
    {
      "cell_type": "code",
      "metadata": {
        "colab": {
          "base_uri": "https://localhost:8080/"
        },
        "id": "jgK49caGhd7W",
        "outputId": "170b1082-d653-4b25-c4d3-9d786df00eb2"
      },
      "source": [
        "lasso = Lasso(10).fit(X_train_scaled, y_train)\n",
        " \n",
        "print(f'Lasso train: {mean_squared_error(y_train, lasso.predict(X_train_scaled))}')\n",
        "print(f'Lasso test: {mean_squared_error(y_test, lasso.predict(X_test_scaled))}')\n",
        " \n",
        "ridge = Ridge(10).fit(X_train_scaled, y_train)\n",
        " \n",
        "print(f'Ridge train: {mean_squared_error(y_train, ridge.predict(X_train_scaled))}')\n",
        "print(f'Ridge test: {mean_squared_error(y_test, ridge.predict(X_test_scaled))}')"
      ],
      "execution_count": null,
      "outputs": [
        {
          "output_type": "stream",
          "text": [
            "Lasso train: 1257366.3637745988\n",
            "Lasso test: 1334968.1933609485\n",
            "Ridge train: 1242922.6270754687\n",
            "Ridge test: 1408670.93929093\n"
          ],
          "name": "stdout"
        }
      ]
    },
    {
      "cell_type": "markdown",
      "metadata": {
        "id": "z-HLaphLhd7W"
      },
      "source": [
        "Оценка весов уменьшилась приблизительно 11-12 порядков по сравнению с линейной регрессией без регуляризации. К тому же, при LASSO некоторые веса занулились."
      ]
    },
    {
      "cell_type": "code",
      "metadata": {
        "colab": {
          "base_uri": "https://localhost:8080/"
        },
        "id": "_Q92Eeq5hd7X",
        "outputId": "36428b81-7b58-49c2-9887-f66b2fd70679"
      },
      "source": [
        "print(lasso.coef_)\n",
        "print(ridge.coef_)"
      ],
      "execution_count": null,
      "outputs": [
        {
          "output_type": "stream",
          "text": [
            "[ 4.96574153e+03 -6.76655514e+01 -5.22019050e+01 -7.47816762e+02\n",
            " -0.00000000e+00 -7.20883507e+01 -1.26015140e+02 -4.33095452e+01\n",
            "  3.62857607e+01  0.00000000e+00 -2.78497658e+00  1.35490388e+02\n",
            "  8.68251674e+01  6.15009343e+01 -0.00000000e+00 -1.75244677e+02\n",
            " -2.87143822e+02 -4.06969658e+02 -4.80630402e+02  1.84340743e+02\n",
            " -2.66811915e+02 -5.83481076e+02  9.80951672e+01 -0.00000000e+00\n",
            "  1.73261253e+02  1.88692236e+02]\n",
            "[ 5441.53453321   -95.59192859   -64.6458855  -1875.88118116\n",
            "   684.29183358   -87.90008025  -117.89545745   -42.82822419\n",
            "    46.77503052    28.98795671    -8.23830512   203.99673721\n",
            "   162.36925276   137.65798314    63.61180636  -125.65704588\n",
            "  -254.13884393  -388.57510588  -461.22194082   236.84726822\n",
            "  -152.37281932  -491.79878993   205.2773037    109.30873478\n",
            "   243.22923943   270.53855267]\n"
          ],
          "name": "stdout"
        }
      ]
    },
    {
      "cell_type": "markdown",
      "metadata": {
        "id": "ZnO0SomChd7X"
      },
      "source": [
        "**Задача 3.10 (0.4 балла)** Как обсуждалось на семинарах, Lasso-регрессию можно использовать для отбора наиболее информативных признаков. Для следующих значений параметра регуляриазции $\\alpha$: 0.1, 1, 10, 100, 200 –  обучите Lasso- и Ridge-регрессии и постройте график измненения евклидовой нормы весов (`np.linalg.norm()` от вектора оценок коэффициентов) в зависимости от параметра $\\alpha$. Как известно, норма является численной характеристикой величины вектора, а потому по норме можно судить о том, насколько большие элементы содержит вектор оценок коэффициентов. \n",
        "\n",
        "\n",
        "Какой метод агрессивнее уменьшает веса? Поясните, почему Lasso-регрессию часто используют для отбора признаков."
      ]
    },
    {
      "cell_type": "markdown",
      "metadata": {
        "id": "wrvBMuRwhd7Y"
      },
      "source": [
        "LASSO регрессия уменьшает веса намного агрессивней, чем Ridge регрессия. LASSO регрессию используют для отбора признаком, потому что она может занулить некоторые веса, в отличие от Ridge регрессии."
      ]
    },
    {
      "cell_type": "code",
      "metadata": {
        "colab": {
          "base_uri": "https://localhost:8080/",
          "height": 278
        },
        "id": "_zovJYeOhd7Y",
        "outputId": "02ed34c4-e6d1-4d84-af4d-c5242405b610"
      },
      "source": [
        "alphas = [0.1, 1, 10, 100, 200]\n",
        "lasso_norms = []\n",
        "ridge_norms = []\n",
        "\n",
        "for alpha in alphas:\n",
        "    lasso = Lasso(alpha).fit(X_train_scaled, y_train)\n",
        "    lasso_norms.append(np.linalg.norm(lasso.coef_))\n",
        "    \n",
        "    ridge = Ridge(alpha).fit(X_train_scaled, y_train)\n",
        "    ridge_norms.append(np.linalg.norm(ridge.coef_))\n",
        "\n",
        "fig, ax = plt.subplots(figsize=(12, 8))\n",
        "\n",
        "ax.plot(alphas, lasso_norms, label='LASSO')\n",
        "ax.plot(alphas, ridge_norms, label='Ridge')\n",
        "\n",
        "\n",
        "fontsize = 14\n",
        "ax.set_xlabel(r'$\\alpha$', size=fontsize)\n",
        "ax.set_ylabel(r'$\\Vert w \\Vert_2$', size=fontsize)\n",
        "ax.set_title(r'Value of weights vector norms for different $\\alpha$ in LASSO and Ridge regression', size=fontsize)\n",
        "ax.legend();"
      ],
      "execution_count": null,
      "outputs": [
        {
          "output_type": "stream",
          "text": [
            "/usr/local/lib/python3.7/dist-packages/sklearn/linear_model/_coordinate_descent.py:476: ConvergenceWarning: Objective did not converge. You might want to increase the number of iterations. Duality gap: 11478835833.00618, tolerance: 59689295.40815153\n",
            "  positive)\n"
          ],
          "name": "stderr"
        },
        {
          "output_type": "display_data",
          "data": {
            "image/png": "[encoded data removed]",
            "text/plain": [
              "<Figure size 864x576 with 1 Axes>"
            ]
          },
          "metadata": {
            "tags": [],
            "needs_background": "light"
          }
        }
      ]
    },
    {
      "cell_type": "markdown",
      "metadata": {
        "id": "4zrM2EHVhd7Z"
      },
      "source": [
        "**Задача 3.11 (0.5 балла)** \n",
        "В зависимости от значения параметра $\\alpha$ в Lasso-регрессии зануляются разные оценки коэффициентов. Оптимальное значение $\\alpha$ можно подобрать, например, при помощи кросс-валидации по тренировочной выборке. \n",
        "\n",
        "Для проведения кросс-валидации можно использовать модуль `LassoCV`. Этот модуль принимает список значений $\\alpha$ (параметр `alphas`) и при обучении проводит кросс-валидацию для каждого значения из этого списка, сохраняя MSE на каждом участке кросс-валидации (количество участков – параметр `cv`) в матрицу ошибок (то есть итоговая матрица будет иметь размер `len(alphas)` $\\times$ `cv`). После обучения модели матрицу ошибок можно получить, обратившись к атрибуту `.mse_path_`. \n",
        "\n",
        "Заметим, что модель может использовать $\\alpha$ не в том порядке, в котором вы подаёте их в функцию: для определения порядка используйте атрибут `.alphas_` Установите количество участков для кросс-валидации (параметр `cv`) равным 5.\n",
        "\n",
        "Усредните ошибки для каждого значения $\\alpha$ (то есть по строкам матрицы ошибок) и выберите то значение, которое даёт наибольшее качество. "
      ]
    },
    {
      "cell_type": "code",
      "metadata": {
        "id": "kPI_78oYhd7Z"
      },
      "source": [
        "from sklearn.linear_model import LassoCV"
      ],
      "execution_count": null,
      "outputs": []
    },
    {
      "cell_type": "code",
      "metadata": {
        "colab": {
          "base_uri": "https://localhost:8080/"
        },
        "id": "T6FgauNYhd7a",
        "outputId": "5549d77e-8bfa-4862-c3e0-ed589be4631e"
      },
      "source": [
        "alphas = [1, 3, 5, 10, 15, 25]\n",
        "lassoCV = LassoCV(alphas=alphas, cv=5, max_iter=2000)\n",
        "lassoCV.fit(X_train_scaled, y_train)\n",
        "lassoCV.alphas_"
      ],
      "execution_count": null,
      "outputs": [
        {
          "output_type": "execute_result",
          "data": {
            "text/plain": [
              "array([25, 15, 10,  5,  3,  1])"
            ]
          },
          "metadata": {
            "tags": []
          },
          "execution_count": 68
        }
      ]
    },
    {
      "cell_type": "code",
      "metadata": {
        "colab": {
          "base_uri": "https://localhost:8080/"
        },
        "id": "UDWRusRlhd7a",
        "outputId": "760b6f6e-637b-4ee0-b426-e1af6af0e670"
      },
      "source": [
        "best_alpha = lassoCV.alphas_[lassoCV.mse_path_.mean(axis=1).argmin()]\n",
        "best_alpha"
      ],
      "execution_count": null,
      "outputs": [
        {
          "output_type": "execute_result",
          "data": {
            "text/plain": [
              "5"
            ]
          },
          "metadata": {
            "tags": []
          },
          "execution_count": 69
        }
      ]
    },
    {
      "cell_type": "markdown",
      "metadata": {
        "id": "_p-Pkdtrhd7b"
      },
      "source": [
        "**Задача 3.12 (0.5 балла)** Обучите итоговую Lasso-регрессию с выбранным параметром $\\alpha$ на тренировочной выборке. Выведите полученные коэффициенты и прокомментируйте, какие признаки оказались неинформативными, а какие – наиболее информативными. Приведите возможное смысловое объяснение этого результата."
      ]
    },
    {
      "cell_type": "markdown",
      "metadata": {
        "id": "_571mLFuhd7b"
      },
      "source": [
        "Занулилось по одному из столбцов полученных OneHot кодированием категориальных признаков и один пространственный признак `y`. Таким образом мы избавились от мультиколлинеарности в данных."
      ]
    },
    {
      "cell_type": "code",
      "metadata": {
        "colab": {
          "base_uri": "https://localhost:8080/"
        },
        "id": "4Vek_wTJhd7b",
        "outputId": "fc6e37b0-6067-4588-dc91-81761df54549"
      },
      "source": [
        "lasso = Lasso(best_alpha)\n",
        "lasso.fit(X_train_scaled, y_train)\n",
        "lasso.coef_"
      ],
      "execution_count": null,
      "outputs": [
        {
          "output_type": "execute_result",
          "data": {
            "text/plain": [
              "array([ 5232.05710889,   -86.50916434,   -59.77371788, -1009.37421235,\n",
              "          -0.        ,   -67.0319153 ,  -128.06581177,   -48.29991274,\n",
              "          30.82890356,     0.        ,   -11.72745872,   143.91119792,\n",
              "          94.50216569,    69.90782311,    -0.        ,  -179.3286943 ,\n",
              "        -294.51710011,  -415.49591612,  -487.2596642 ,   187.27009215,\n",
              "        -265.31501778,  -587.0310367 ,   105.05753374,    -0.        ,\n",
              "         175.02489547,   191.58181579])"
            ]
          },
          "metadata": {
            "tags": []
          },
          "execution_count": 70
        }
      ]
    },
    {
      "cell_type": "markdown",
      "metadata": {
        "id": "jagt0vBthd7c"
      },
      "source": [
        "**Задача 3.13 (0.4 балла)** Сделайте предсказания обученной Lasso-регрессии на тестовой выборке и сравните среднеквадратичную ошибку с ошибкой обычной линейной регрессии из задачи 3.7. Какую модель лучше использовать для предсказаний? Приведите возможное объяснение, почему одна модель оказалась лучше другой."
      ]
    },
    {
      "cell_type": "markdown",
      "metadata": {
        "id": "NnzjI7OQhd7c"
      },
      "source": [
        "LASSO линейная регрессия оказалось лучше. так как она ограничила размер для оценок весов и, таким образом, модель имеет большую обобщающую способность по сравнению с моделью с высокими весами, где небольшому изменению признаков соответствуют огромные изменения целевой переменной. Как следствие, предсказания модели LASSO регрессии будут более качественными."
      ]
    },
    {
      "cell_type": "code",
      "metadata": {
        "colab": {
          "base_uri": "https://localhost:8080/"
        },
        "id": "Lq_E8yJXhd7d",
        "outputId": "65405fab-9ac7-4bf4-8c04-d88bf9db2797"
      },
      "source": [
        "print(f'LASSO test: {mean_squared_error(y_test, lasso.predict(X_test_scaled))}')\n",
        "print(f'Linear regression test: {mean_squared_error(y_test, linreg.predict(X_test_scaled))}')"
      ],
      "execution_count": null,
      "outputs": [
        {
          "output_type": "stream",
          "text": [
            "LASSO test: 1329653.060354613\n",
            "Linear regression test: 1498264.4179665092\n"
          ],
          "name": "stdout"
        }
      ]
    }
  ]
}