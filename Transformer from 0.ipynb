{
 "cells": [
  {
   "cell_type": "markdown",
   "metadata": {},
   "source": [
    "# Трансформеры\n",
    "В этом домашнем задании мы рассмотим использование трансформеров в библиотеке PyTorch. Рассмотрим задачу языкового моделирования. Попробуем генерировать текст нейронной сетью. "
   ]
  },
  {
   "cell_type": "markdown",
   "metadata": {},
   "source": [
    "Ссылка на данные - https://drive.google.com/drive/folders/1x1A4ElliUGBPnHladGMwPxPuGxI8Vnpu?usp=sharing"
   ]
  },
  {
   "cell_type": "code",
   "execution_count": 3,
   "metadata": {
    "execution": {
     "iopub.execute_input": "2021-12-30T16:57:30.772605Z",
     "iopub.status.busy": "2021-12-30T16:57:30.772312Z",
     "iopub.status.idle": "2021-12-30T16:57:32.144712Z",
     "shell.execute_reply": "2021-12-30T16:57:32.143940Z",
     "shell.execute_reply.started": "2021-12-30T16:57:30.772572Z"
    }
   },
   "outputs": [],
   "source": [
    "# хороший тон, импортировать все необходимые библиотеки в одной ячейке ;)\n",
    "\n",
    "import torch\n",
    "from torch import nn\n",
    "import math\n",
    "import numpy as np\n",
    "import time\n",
    "from torch.utils.data import DataLoader\n",
    "from torch.optim import Adam"
   ]
  },
  {
   "cell_type": "markdown",
   "metadata": {},
   "source": [
    "Что такое языковое моделирование? Это предсказание вероятности следующего токена (слова или буквы) на основе предыдущих токенов. Математически это можно описать так:\n",
    "\n",
    "$$P(x_i|x_1, x_2 , ... , x_{i-1})$$ \n",
    "\n",
    "Последовательность $$ x_1, x_2, ... x_{i-1} $$ называют контекстом."
   ]
  },
  {
   "cell_type": "markdown",
   "metadata": {},
   "source": [
    "## Задание 0 (0 баллов, но сделать нужно)\n",
    "Проставьте знаки неравенств, исходя из вашего опыта:\n",
    "$$ P(раму | мама, мыла) * P(папу | мама, мыла) $$\n",
    "$$ P(столу | дорога, ложка, к) * P(обеду | дорога, ложка, к) $$\n",
    "$$ P(Евпатий | меня, зовут) * P(Ваня | меня, зовут) $$\n",
    "$$ P(журналы | я, часто ,читаю) * P(комиксы | я, часто ,читаю) $$\n",
    "Попробуйте объяснить выбор для каждого из примеров."
   ]
  },
  {
   "cell_type": "markdown",
   "metadata": {},
   "source": [
    "Ответ : "
   ]
  },
  {
   "cell_type": "markdown",
   "metadata": {},
   "source": [
    "$$ P(раму | мама, мыла) > P(папу | мама, мыла) -- мама мыла раму -- известный стишок $$ \n",
    "$$ P(столу | дорога, ложка, к) > P(обеду | дорога, ложка, к) -- дорога ложка к обеду -- поговорка такая $$ \n",
    "$$ P(Евпатий | меня, зовут) < P(Ваня | меня, зовут) -- имя Ваня чаще имени Евпатий $$  \n",
    "$$ P(журналы | я, часто ,читаю) > P(комиксы | я, часто ,читаю) -- наверное люди чаще читают журналы, чем комиксы $$ "
   ]
  },
  {
   "cell_type": "markdown",
   "metadata": {},
   "source": [
    "Если для некоторых из примеров проставить знаки достаточно просто, то на некоторые сложно сказать, какой овтет верный. Мы принимаем решение для данного задания исходя их опыта использования русского языка. Мы много читали на русском и слушали огромное количество русской речи. Обучение языковых моделей происходит по схожему принципу. \n",
    "\n",
    "Мы хотим показать модели столько текстов, сколько можем и надеемся, что она наберется достаточно опыта, чтобы расставлять такие знаки неравества максимально схоже с человеком."
   ]
  },
  {
   "cell_type": "markdown",
   "metadata": {},
   "source": [
    "## Задание 1 (0.5 балла)\n",
    "Мы будем обучать языковую модель для предсказания следущей буквы. Такие языковые модели применяются в распозновании речи, так как предоставляют дополнительную информацию акустической модели при выборе следующего символа. Для начала, откройте файл с данными, посмотрите, какие символы входят в тексты, сколько их. Уберите из текста все символы переноса на новую строку и табуляцию."
   ]
  },
  {
   "cell_type": "code",
   "execution_count": 2,
   "metadata": {
    "execution": {
     "iopub.execute_input": "2021-12-30T16:47:16.878818Z",
     "iopub.status.busy": "2021-12-30T16:47:16.877794Z",
     "iopub.status.idle": "2021-12-30T16:47:17.754525Z",
     "shell.execute_reply": "2021-12-30T16:47:17.753588Z",
     "shell.execute_reply.started": "2021-12-30T16:47:16.878711Z"
    },
    "scrolled": true
   },
   "outputs": [],
   "source": [
    "path = '../input/hse-ida-transformers/small_corp_for_test.txt'\n",
    "file = open(path, 'r')\n",
    "data = file.readlines()\n",
    "file.close()\n",
    "len(data)"
   ]
  },
  {
   "cell_type": "code",
   "execution_count": 3,
   "metadata": {
    "execution": {
     "iopub.execute_input": "2021-12-30T16:47:19.812559Z",
     "iopub.status.busy": "2021-12-30T16:47:19.812268Z",
     "iopub.status.idle": "2021-12-30T16:47:20.304941Z",
     "shell.execute_reply": "2021-12-30T16:47:20.304086Z",
     "shell.execute_reply.started": "2021-12-30T16:47:19.812527Z"
    }
   },
   "outputs": [],
   "source": [
    "def repl_ntab(line):\n",
    "    return line.replace('\\t','').replace('\\n','')\n",
    "data = [repl_ntab(line) for line in data]"
   ]
  },
  {
   "cell_type": "code",
   "execution_count": 6,
   "metadata": {
    "execution": {
     "iopub.execute_input": "2021-12-30T15:58:03.092556Z",
     "iopub.status.busy": "2021-12-30T15:58:03.091997Z",
     "iopub.status.idle": "2021-12-30T15:58:04.948314Z",
     "shell.execute_reply": "2021-12-30T15:58:04.947503Z",
     "shell.execute_reply.started": "2021-12-30T15:58:03.092514Z"
    }
   },
   "outputs": [],
   "source": [
    "words = set(''.join(data))"
   ]
  },
  {
   "cell_type": "code",
   "execution_count": 5,
   "metadata": {
    "execution": {
     "iopub.execute_input": "2021-12-30T14:17:01.380394Z",
     "iopub.status.busy": "2021-12-30T14:17:01.380120Z",
     "iopub.status.idle": "2021-12-30T14:17:01.391358Z",
     "shell.execute_reply": "2021-12-30T14:17:01.390614Z",
     "shell.execute_reply.started": "2021-12-30T14:17:01.380360Z"
    }
   },
   "outputs": [],
   "source": [
    "words"
   ]
  },
  {
   "cell_type": "code",
   "execution_count": 6,
   "metadata": {
    "execution": {
     "iopub.execute_input": "2021-12-30T14:17:02.585026Z",
     "iopub.status.busy": "2021-12-30T14:17:02.584327Z",
     "iopub.status.idle": "2021-12-30T14:17:02.593647Z",
     "shell.execute_reply": "2021-12-30T14:17:02.592786Z",
     "shell.execute_reply.started": "2021-12-30T14:17:02.584984Z"
    }
   },
   "outputs": [],
   "source": [
    "len(words)"
   ]
  },
  {
   "cell_type": "markdown",
   "metadata": {},
   "source": [
    "## Задание 2 (0.5 балла)\n",
    "Для обучения модели требуется сначала подготовить текст в подходящий для нейросети вид. Важно также отметить, что нужно добавить два токена start и end, которые отвечают за начало и конец текста. Используйте [ и ] для этой задачи. Также нам нужен токен pad, чтобы заполнять им текст до требуемой длинны для формирования батча.\n",
    "\n",
    "Реализуйте метод preprocess класса Preprocessor. Он должен принимать на вход текст и длинну текста, которую мы ожидаем получить на выходе. Текст должен быть переведен в нижний регистр, в конец текста добавляется требуемое число pad токенов, далее текст векторизуется (каждому символу ставится свое число). Вернуть требуется два вектора. Полученный результат без последнего токена (на нем будем обучаться) и полученный результат без первого токена (целевые метки при обучении)."
   ]
  },
  {
   "cell_type": "code",
   "execution_count": 4,
   "metadata": {
    "execution": {
     "iopub.execute_input": "2021-12-30T16:47:23.103589Z",
     "iopub.status.busy": "2021-12-30T16:47:23.102857Z",
     "iopub.status.idle": "2021-12-30T16:47:23.111688Z",
     "shell.execute_reply": "2021-12-30T16:47:23.110859Z",
     "shell.execute_reply.started": "2021-12-30T16:47:23.103548Z"
    }
   },
   "outputs": [],
   "source": [
    "class Preprocessor:\n",
    "    def __init__(self):\n",
    "        self.alphabet = '_добсркгаупитнезчм яжлйвцыэь-шхющёъ][ф '\n",
    "        self.token2ind = {}\n",
    "        self.ind2token = {}\n",
    "        self.paddtoken = '_'\n",
    "        for i in range(len(self.alphabet)):\n",
    "            self.token2ind[self.alphabet[i]] = i\n",
    "            self.ind2token[i] = self.alphabet[i]\n",
    "        \n",
    "    \n",
    "    def preprocess(self, text, window_size):\n",
    "        text = text.lower()\n",
    "        num_padds = window_size - len(text)\n",
    "        text = text + '_'*num_padds\n",
    "        vec = torch.tensor([self.token2ind[i] for i in text])\n",
    "        return vec[:-1],vec[1:]"
   ]
  },
  {
   "cell_type": "code",
   "execution_count": 5,
   "metadata": {
    "execution": {
     "iopub.execute_input": "2021-12-30T16:37:15.258667Z",
     "iopub.status.busy": "2021-12-30T16:37:15.258392Z",
     "iopub.status.idle": "2021-12-30T16:37:15.289612Z",
     "shell.execute_reply": "2021-12-30T16:37:15.288817Z",
     "shell.execute_reply.started": "2021-12-30T16:37:15.258637Z"
    }
   },
   "outputs": [],
   "source": [
    "example = 'Какой-то текст'\n",
    "print(len(example))\n",
    "Preprocessor().preprocess(example,len(example) + 10)"
   ]
  },
  {
   "cell_type": "markdown",
   "metadata": {},
   "source": [
    "## Задание 3 (0.5 балла)\n",
    "Так как мы решили, что текст будет начинаться токеном [ и заканчиваться токеном ], данные нужно поправить. Реализуйте эту идею, добавьте данные токены в ваши тексты."
   ]
  },
  {
   "cell_type": "code",
   "execution_count": 5,
   "metadata": {
    "execution": {
     "iopub.execute_input": "2021-12-30T16:47:25.831798Z",
     "iopub.status.busy": "2021-12-30T16:47:25.831061Z",
     "iopub.status.idle": "2021-12-30T16:47:26.031590Z",
     "shell.execute_reply": "2021-12-30T16:47:26.030767Z",
     "shell.execute_reply.started": "2021-12-30T16:47:25.831738Z"
    }
   },
   "outputs": [],
   "source": [
    "data_framed = ['['+ i + ']' for i in data]"
   ]
  },
  {
   "cell_type": "markdown",
   "metadata": {},
   "source": [
    "## Задание 4 (0.5 балла)\n",
    "Так как мы не располагаем большими мощностями, то давайте ограничим максимальную длинну текста. Вы можете менять этот порог и тем самым уменьшать кол-во текстов в вашей выборке и увеличивая тем самым скорость обучения. Начнем же мы с 128. \n",
    "Выберите порог и оставьте только те тексты, длина которых не превосходит данный порог.\n",
    "\n",
    "Далее разбейте тексты на train и test, перемешайте тексты при разбиении, размер тестовой выборки должен быть 15% от общего числа текстов. "
   ]
  },
  {
   "cell_type": "code",
   "execution_count": 6,
   "metadata": {
    "execution": {
     "iopub.execute_input": "2021-12-30T16:47:28.346655Z",
     "iopub.status.busy": "2021-12-30T16:47:28.346372Z",
     "iopub.status.idle": "2021-12-30T16:47:28.466138Z",
     "shell.execute_reply": "2021-12-30T16:47:28.465359Z",
     "shell.execute_reply.started": "2021-12-30T16:47:28.346624Z"
    }
   },
   "outputs": [],
   "source": [
    "THRESHOLD = 128\n",
    "\n",
    "data_framed = [i for i in data_framed if len(i) <= THRESHOLD]"
   ]
  },
  {
   "cell_type": "code",
   "execution_count": 7,
   "metadata": {
    "execution": {
     "iopub.execute_input": "2021-12-30T16:47:29.477428Z",
     "iopub.status.busy": "2021-12-30T16:47:29.476858Z",
     "iopub.status.idle": "2021-12-30T16:47:29.605072Z",
     "shell.execute_reply": "2021-12-30T16:47:29.604187Z",
     "shell.execute_reply.started": "2021-12-30T16:47:29.477386Z"
    }
   },
   "outputs": [],
   "source": [
    "np.random.shuffle(data_framed)\n",
    "th = int(len(data_framed)*0.15)\n",
    "data_test, data_train= data_framed[:th], data_framed[th:]\n",
    "print(len(data_train)/len(data_framed))"
   ]
  },
  {
   "cell_type": "markdown",
   "metadata": {},
   "source": [
    "## Задание 5 (2 балла)\n",
    "Напишем датасет. На вход датасету передается набор текстов, объект класса Preprocessor и размер окна, который вы выбрали в прошлом задании.\n",
    "Реализуйте методы __len__ и __getitem__."
   ]
  },
  {
   "cell_type": "code",
   "execution_count": 8,
   "metadata": {
    "execution": {
     "iopub.execute_input": "2021-12-30T16:47:31.931540Z",
     "iopub.status.busy": "2021-12-30T16:47:31.930809Z",
     "iopub.status.idle": "2021-12-30T16:47:31.937626Z",
     "shell.execute_reply": "2021-12-30T16:47:31.936854Z",
     "shell.execute_reply.started": "2021-12-30T16:47:31.931499Z"
    }
   },
   "outputs": [],
   "source": [
    "class TextDataset(torch.utils.data.Dataset):\n",
    "    \n",
    "    def __init__(self, x, preproc, win_size = 128):\n",
    "        \n",
    "        self.data = [preproc.preprocess(i,win_size) for i in x]\n",
    "    \n",
    "    def __len__(self):\n",
    "        return len(self.data)\n",
    "    \n",
    "    def __getitem__(self, idx):\n",
    "        return self.data[idx]"
   ]
  },
  {
   "cell_type": "code",
   "execution_count": 9,
   "metadata": {
    "execution": {
     "iopub.execute_input": "2021-12-30T16:47:32.322164Z",
     "iopub.status.busy": "2021-12-30T16:47:32.321616Z",
     "iopub.status.idle": "2021-12-30T16:48:00.715898Z",
     "shell.execute_reply": "2021-12-30T16:48:00.715061Z",
     "shell.execute_reply.started": "2021-12-30T16:47:32.322125Z"
    }
   },
   "outputs": [],
   "source": [
    "preproc = Preprocessor()\n",
    "train_dataset = TextDataset(data_train, preproc)\n",
    "test_dataset = TextDataset(data_test, preproc)"
   ]
  },
  {
   "cell_type": "code",
   "execution_count": 14,
   "metadata": {
    "execution": {
     "iopub.execute_input": "2021-12-30T14:17:33.319459Z",
     "iopub.status.busy": "2021-12-30T14:17:33.319212Z",
     "iopub.status.idle": "2021-12-30T14:17:33.328048Z",
     "shell.execute_reply": "2021-12-30T14:17:33.327260Z",
     "shell.execute_reply.started": "2021-12-30T14:17:33.319427Z"
    }
   },
   "outputs": [],
   "source": [
    "train_dataset[0]"
   ]
  },
  {
   "cell_type": "code",
   "execution_count": 15,
   "metadata": {
    "execution": {
     "iopub.execute_input": "2021-12-30T14:17:33.329901Z",
     "iopub.status.busy": "2021-12-30T14:17:33.329611Z",
     "iopub.status.idle": "2021-12-30T14:17:33.337544Z",
     "shell.execute_reply": "2021-12-30T14:17:33.336797Z",
     "shell.execute_reply.started": "2021-12-30T14:17:33.329855Z"
    }
   },
   "outputs": [],
   "source": [
    "len(train_dataset)"
   ]
  },
  {
   "cell_type": "markdown",
   "metadata": {},
   "source": [
    "## Задание 6 (2 балла)\n",
    "Напишем модель. Класс для реализации positional encoding реализован за вас, он нужен, чтобы модель могла после получения эмбедингов понимать, на каком месте какой токен находится.\n",
    "\n",
    "Заполните пропуски в классе модели. Гипперпараметры модели вам предлагается подобрать самостоятельно. Рекомендуется использовать не более 6 слоев в трансформере. В декореде испоьлзуйте две линейных слоя с функцией активации ReLU между ними.\n",
    "\n",
    "## Задание 6_1 (0 баллов, но надо ответить!)\n",
    "При обучении языковой модели на основе трансформеров мы используем маскирование символов (как мы это делаем - уже реализовано). Напишите, почему мы это делаем? Почему это так важно?"
   ]
  },
  {
   "cell_type": "markdown",
   "metadata": {},
   "source": [
    "Смысл механизма маскированя в том, чтобы механизм внимания не мог учитывать следующие токины, которые ему нужно предсказать. Иначе бы модель могла бы \"играть\" нечестно, подглядывать на готовые ответы."
   ]
  },
  {
   "cell_type": "code",
   "execution_count": 10,
   "metadata": {
    "execution": {
     "iopub.execute_input": "2021-12-30T16:48:00.718118Z",
     "iopub.status.busy": "2021-12-30T16:48:00.717818Z",
     "iopub.status.idle": "2021-12-30T16:48:00.726048Z",
     "shell.execute_reply": "2021-12-30T16:48:00.725374Z",
     "shell.execute_reply.started": "2021-12-30T16:48:00.718078Z"
    }
   },
   "outputs": [],
   "source": [
    "class PositionalEncoding(nn.Module):\n",
    "\n",
    "    def __init__(self, d_model, dropout=0.1, max_len=5000):\n",
    "        super(PositionalEncoding, self).__init__()\n",
    "        self.dropout = nn.Dropout(p=dropout)\n",
    "\n",
    "        pe = torch.zeros(max_len, d_model)\n",
    "        position = torch.arange(0, max_len, dtype=torch.float).unsqueeze(1)\n",
    "        div_term = torch.exp(torch.arange(0, d_model, 2).float() * (-math.log(10000.0) / d_model))\n",
    "        pe[:, 0::2] = torch.sin(position * div_term)\n",
    "        pe[:, 1::2] = torch.cos(position * div_term)\n",
    "        pe = pe.unsqueeze(0).transpose(0, 1)\n",
    "        self.register_buffer('pe', pe)\n",
    "\n",
    "    def forward(self, x):\n",
    "        x = x + self.pe[:x.size(0), :]\n",
    "        return self.dropout(x)"
   ]
  },
  {
   "cell_type": "code",
   "execution_count": 11,
   "metadata": {
    "execution": {
     "iopub.execute_input": "2021-12-30T16:48:00.728152Z",
     "iopub.status.busy": "2021-12-30T16:48:00.727574Z",
     "iopub.status.idle": "2021-12-30T16:48:00.739498Z",
     "shell.execute_reply": "2021-12-30T16:48:00.738818Z",
     "shell.execute_reply.started": "2021-12-30T16:48:00.728111Z"
    }
   },
   "outputs": [],
   "source": [
    "class LanguageModel(nn.Module):\n",
    "    def __init__(self, vocab_size,n_layers,nhead,d_model,d_hid,dropout):\n",
    "        super(LanguageModel, self).__init__()\n",
    "        self.emb = nn.Embedding(vocab_size, d_model,  padding_idx = 0)\n",
    "        self.pe = PositionalEncoding(d_model, dropout)\n",
    "        self.transformer_encoder_layer = nn.TransformerEncoderLayer(d_model,nhead,d_hid, dropout )\n",
    "        self.transformer_encoder = nn.TransformerEncoder(self.transformer_encoder_layer,n_layers)\n",
    "        self.decoder = nn.Sequential(\n",
    "            nn.Linear(d_model, d_model),\n",
    "            nn.ReLU(),\n",
    "            nn.Linear(d_model, vocab_size)\n",
    "        )\n",
    "    \n",
    "    def forward(self, x, src_mask):\n",
    "        x = self.emb(x)\n",
    "        x = self.pe(x)# emb, then pe\n",
    "        x = x.transpose(1, 0)\n",
    "        x = self.transformer_encoder(x, src_mask) # transformer encoder with mask\n",
    "        x = self.decoder(x) # decoder\n",
    "        return x.transpose(1, 0)\n",
    "    \n",
    "    def generate_square_subsequent_mask(self, sz):\n",
    "        # А вот и то самое маскирование\n",
    "        mask = (torch.triu(torch.ones(sz, sz)) == 1).transpose(0, 1)\n",
    "        mask = mask.float().masked_fill(mask == 0, float('-inf')).masked_fill(mask == 1, float(0.0))\n",
    "        return mask"
   ]
  },
  {
   "cell_type": "code",
   "execution_count": 12,
   "metadata": {
    "execution": {
     "iopub.execute_input": "2021-12-30T16:48:09.692043Z",
     "iopub.status.busy": "2021-12-30T16:48:09.691732Z",
     "iopub.status.idle": "2021-12-30T16:48:09.785393Z",
     "shell.execute_reply": "2021-12-30T16:48:09.784694Z",
     "shell.execute_reply.started": "2021-12-30T16:48:09.692012Z"
    }
   },
   "outputs": [],
   "source": [
    "n_layers = 2\n",
    "nhead = 4\n",
    "d_model = 200\n",
    "d_hid = 200\n",
    "dropout = 0.2\n",
    "model = LanguageModel(len('_добсркгаупитнезчм яжлйвцыэь-шхющёъ][ ф'),n_layers,nhead,d_model,d_hid,dropout)"
   ]
  },
  {
   "cell_type": "code",
   "execution_count": 13,
   "metadata": {
    "execution": {
     "iopub.execute_input": "2021-12-30T16:48:19.562027Z",
     "iopub.status.busy": "2021-12-30T16:48:19.561237Z",
     "iopub.status.idle": "2021-12-30T16:48:19.568379Z",
     "shell.execute_reply": "2021-12-30T16:48:19.567670Z",
     "shell.execute_reply.started": "2021-12-30T16:48:19.561989Z"
    }
   },
   "outputs": [],
   "source": [
    "model"
   ]
  },
  {
   "cell_type": "markdown",
   "metadata": {},
   "source": [
    "## Задание 7 (2,5 балла)\n",
    "Финишная прямая. Давайте реализуем класс для обучения модели и ее валидации. Следуйте указаниям в коде и заполните недостающие фрагменты в коде."
   ]
  },
  {
   "cell_type": "code",
   "execution_count": 14,
   "metadata": {
    "execution": {
     "iopub.execute_input": "2021-12-30T16:48:29.654472Z",
     "iopub.status.busy": "2021-12-30T16:48:29.653910Z",
     "iopub.status.idle": "2021-12-30T16:48:29.675433Z",
     "shell.execute_reply": "2021-12-30T16:48:29.674664Z",
     "shell.execute_reply.started": "2021-12-30T16:48:29.654435Z"
    }
   },
   "outputs": [],
   "source": [
    "class Trainer:\n",
    "    \n",
    "    def __init__(self, model, train_dataset, test_dataset,clip=0.5):\n",
    "        self.clip = clip\n",
    "        self.model = model\n",
    "        \n",
    "        self.train_batch_size = 128\n",
    "        self.test_batch_size = 128\n",
    "        \n",
    "        self.train_dataloader = DataLoader(train_dataset, batch_size = self.train_batch_size,\n",
    "                                           shuffle = True)\n",
    "        self.test_dataloader = DataLoader(train_dataset, batch_size = self.test_batch_size,\n",
    "                                           shuffle = False)\n",
    "        self.train_dataloader_size = len(self.train_dataloader)\n",
    "        self.test_dataloader_size = len(self.test_dataloader)\n",
    "        \n",
    "        self.device = 'cuda:0'\n",
    "        self.criterion = nn.CrossEntropyLoss(ignore_index = 0) # используйте CrossEntrophyLoss, передайте в качетсве параметра \n",
    "                             # ignore index индекс символа _, чтобы модель не штрафовалась за то\n",
    "                             # что идет после закрывающего токена\n",
    "        \n",
    "        self.optimizer = torch.optim.Adam(self.model.parameters())\n",
    "        \n",
    "        self.steps_to_print = 1000\n",
    "        \n",
    "    def train_one_epoch(self, epoch_number):\n",
    "        step = 0\n",
    "        counted_loss = 0\n",
    "        current_time = time.time()\n",
    "        it = 0\n",
    "        \n",
    "        for batch in self.train_dataloader:\n",
    "            x, y = batch\n",
    "            x, y = x.to(self.device),y.to(self.device)\n",
    "            it += len(x)\n",
    "            step += 1\n",
    "            \n",
    "            self.mask = self.model.generate_square_subsequent_mask(x.size(1)).to(self.device)\n",
    "            pred = self.model(x,self.mask).transpose(-1,1)\n",
    "            loss =  self.criterion(pred, y)\n",
    "            counted_loss+=loss.item()\n",
    "            \n",
    "            self.optimizer.zero_grad()\n",
    "            loss.backward()\n",
    "            nn.utils.clip_grad_norm_(self.model.parameters(),self.clip)\n",
    "            self.optimizer.step()\n",
    "            \n",
    "            \n",
    "            if step%self.steps_to_print == 0:\n",
    "                result = 'Train epoch '+str(epoch_number)+' | '\n",
    "                result += 'Step '+str(step)+'/'+str(self.train_dataloader_size)+' | '\n",
    "                result += 'Counted loss '+str(counted_loss)+' | '\n",
    "                result += 'ppl '+str(math.exp(counted_loss/it))+' | '\n",
    "                result += 'time '+str(time.time() - current_time) + ' | '\n",
    "                print(result)\n",
    "                current_time = time.time()\n",
    "                counted_loss = 0\n",
    "                it = 0\n",
    "    \n",
    "    def validate_one_epoch(self, epoch_number):\n",
    "        step = 0\n",
    "        counted_loss = 0\n",
    "        current_time = time.time()\n",
    "        it = 0\n",
    "        for batch in self.test_dataloader:\n",
    "            \n",
    "            x, y = batch\n",
    "            x, y = x.to(self.device),y.to(self.device)\n",
    "\n",
    "            it += len(x)\n",
    "            step += 1\n",
    "            \n",
    "            self.mask = self.model.generate_square_subsequent_mask(x.size(1)).to(self.device)\n",
    "            pred = self.model(x,self.mask).transpose(-1,1)\n",
    "            loss =  self.criterion(pred, y)\n",
    "            counted_loss+=loss.item()\n",
    "            \n",
    "            if step%(self.steps_to_print//2) == 0:\n",
    "                result = 'Validate epoch '+str(epoch_number)+' | '\n",
    "                result += 'Step '+str(step)+'/'+str(self.test_dataloader_size)+' | '\n",
    "                result += 'Counted loss '+str(counted_loss)+' | '\n",
    "                result += 'ppl '+str(math.exp(counted_loss/it))+' | '\n",
    "                result += 'time '+str(time.time() - current_time) + ' | '\n",
    "                print(result)\n",
    "                current_time = time.time()\n",
    "                counted_loss = 0\n",
    "                it = 0\n",
    "        \n",
    "    def train(self, number_of_epochs):\n",
    "        model.to(self.device)\n",
    "        for epoch in range(1, number_of_epochs+1):\n",
    "            model.train()\n",
    "            self.train_one_epoch(epoch)\n",
    "            with torch.no_grad():\n",
    "                model.eval()\n",
    "                self.validate_one_epoch(epoch)\n",
    "            print()"
   ]
  },
  {
   "cell_type": "markdown",
   "metadata": {},
   "source": [
    "Что такое ppl? Перплексия. Ее можно интерпретировать как меру \"удивленности\" модели нужному символу. Чем меньше данная величина, тем лучше, ведь это значит, что модель если и сделала неправильный выбор, то не сильно удивлена своей ошибке.\n",
    "\n",
    "Проведите несколько экспериментов, посмотрите, при каких гипперпараметрах значение перплексии минимально."
   ]
  },
  {
   "cell_type": "code",
   "execution_count": 15,
   "metadata": {
    "execution": {
     "iopub.execute_input": "2021-12-30T16:48:39.977448Z",
     "iopub.status.busy": "2021-12-30T16:48:39.977168Z",
     "iopub.status.idle": "2021-12-30T16:52:00.626872Z",
     "shell.execute_reply": "2021-12-30T16:52:00.626067Z",
     "shell.execute_reply.started": "2021-12-30T16:48:39.977411Z"
    }
   },
   "outputs": [],
   "source": [
    "n_layers = 2\n",
    "nhead = 4\n",
    "d_model = 200\n",
    "d_hid = 200\n",
    "dropout = 0.2\n",
    "model = LanguageModel(len('_добсркгаупитнезчм яжлйвцыэь-шхющёъ][ ф'),n_layers,nhead,d_model,d_hid,dropout)\n",
    "training = Trainer(model, train_dataset, test_dataset,clip=5)\n",
    "training.train(1)"
   ]
  },
  {
   "cell_type": "code",
   "execution_count": 43,
   "metadata": {
    "execution": {
     "iopub.execute_input": "2021-12-30T14:42:26.813337Z",
     "iopub.status.busy": "2021-12-30T14:42:26.813078Z",
     "iopub.status.idle": "2021-12-30T14:45:43.814896Z",
     "shell.execute_reply": "2021-12-30T14:45:43.814151Z",
     "shell.execute_reply.started": "2021-12-30T14:42:26.813308Z"
    }
   },
   "outputs": [],
   "source": [
    "# попробую сильнее ограничить градиент\n",
    "n_layers = 2\n",
    "nhead = 4\n",
    "d_model = 200\n",
    "d_hid = 200\n",
    "dropout = 0.2\n",
    "model = LanguageModel(len('_добсркгаупитнезчм яжлйвцыэь-шхющёъ][ ф'),n_layers,nhead,d_model,d_hid,dropout)\n",
    "training = Trainer(model, train_dataset, test_dataset,clip=0.5)\n",
    "training.train(1) "
   ]
  },
  {
   "cell_type": "code",
   "execution_count": 44,
   "metadata": {
    "execution": {
     "iopub.execute_input": "2021-12-30T14:47:49.994435Z",
     "iopub.status.busy": "2021-12-30T14:47:49.994178Z",
     "iopub.status.idle": "2021-12-30T14:56:36.358906Z",
     "shell.execute_reply": "2021-12-30T14:56:36.358153Z",
     "shell.execute_reply.started": "2021-12-30T14:47:49.994406Z"
    }
   },
   "outputs": [],
   "source": [
    "# попробую сделать побольше слоев\n",
    "n_layers = 6\n",
    "nhead = 4\n",
    "d_model = 200\n",
    "d_hid = 200\n",
    "dropout = 0.2\n",
    "model = LanguageModel(len('_добсркгаупитнезчм яжлйвцыэь-шхющёъ][ ф'),n_layers,nhead,d_model,d_hid,dropout)\n",
    "training = Trainer(model, train_dataset, test_dataset,clip=0.5)\n",
    "training.train(1) "
   ]
  },
  {
   "cell_type": "code",
   "execution_count": 46,
   "metadata": {
    "execution": {
     "iopub.execute_input": "2021-12-30T14:57:43.001451Z",
     "iopub.status.busy": "2021-12-30T14:57:43.001188Z",
     "iopub.status.idle": "2021-12-30T15:07:42.135911Z",
     "shell.execute_reply": "2021-12-30T15:07:42.135136Z",
     "shell.execute_reply.started": "2021-12-30T14:57:43.001424Z"
    }
   },
   "outputs": [],
   "source": [
    "# попробую сделать побольше голов\n",
    "n_layers = 6\n",
    "nhead = 8\n",
    "d_model = 200\n",
    "d_hid = 400\n",
    "dropout = 0.2\n",
    "model = LanguageModel(len('_добсркгаупитнезчм яжлйвцыэь-шхющёъ][ ф'),n_layers,nhead,d_model,d_hid,dropout)\n",
    "training = Trainer(model, train_dataset, test_dataset,clip=0.5)\n",
    "training.train(1) "
   ]
  },
  {
   "cell_type": "code",
   "execution_count": 23,
   "metadata": {
    "execution": {
     "iopub.execute_input": "2021-12-30T16:00:15.075592Z",
     "iopub.status.busy": "2021-12-30T16:00:15.075318Z",
     "iopub.status.idle": "2021-12-30T16:11:04.151294Z",
     "shell.execute_reply": "2021-12-30T16:11:04.150489Z",
     "shell.execute_reply.started": "2021-12-30T16:00:15.075560Z"
    }
   },
   "outputs": [],
   "source": [
    "# поставлю d_hid побольше\n",
    "n_layers = 6\n",
    "nhead = 8\n",
    "d_model = 200\n",
    "d_hid = 400\n",
    "dropout = 0.2\n",
    "model = LanguageModel(len('_добсркгаупитнезчм яжлйвцыэь-шхющёъ][ ф'),n_layers,nhead,d_model,d_hid,dropout)\n",
    "training = Trainer(model, train_dataset, test_dataset,clip=0.5)\n",
    "training.train(1) "
   ]
  },
  {
   "cell_type": "markdown",
   "metadata": {},
   "source": [
    "Вроде как последний вариант самый качественный."
   ]
  },
  {
   "cell_type": "markdown",
   "metadata": {},
   "source": [
    "## Задание 8 (0.5 балла)\n",
    "Запустите обучение на нескольких эпохах. Ориентируйтесь на ваши вычислительные мощности и время работы. Вы всегда можете посчитать, сколько секунд уходит на один батч."
   ]
  },
  {
   "cell_type": "code",
   "execution_count": 48,
   "metadata": {
    "execution": {
     "iopub.execute_input": "2021-12-30T15:28:04.649503Z",
     "iopub.status.busy": "2021-12-30T15:28:04.648848Z",
     "iopub.status.idle": "2021-12-30T15:51:55.379269Z",
     "shell.execute_reply": "2021-12-30T15:51:55.377488Z",
     "shell.execute_reply.started": "2021-12-30T15:28:04.649465Z"
    }
   },
   "outputs": [],
   "source": [
    "n_layers = 6\n",
    "nhead = 8\n",
    "d_model = 200\n",
    "d_hid = 400\n",
    "dropout = 0.2\n",
    "model = LanguageModel(len('_добсркгаупитнезчм яжлйвцыэь-шхющёъ][ ф'),n_layers,nhead,d_model,d_hid,dropout)\n",
    "training = Trainer(model, train_dataset, test_dataset,clip=0.5)\n",
    "training.train(5) "
   ]
  },
  {
   "cell_type": "markdown",
   "metadata": {},
   "source": [
    "## Задание 9 (1 балл)\n",
    "Итак, давайте попробуем погенерировать текст нашей сеткой. Закончите функцию по генерации текста. Попробуйте сгенерировать какой-нибудь текст. Помните, что если вы хотите генерировать текст с нуля, то вы должны передать в качестве текста только токен start.\n",
    "Прекратите генерировать текст, если модель выдала токен end или длинна текста больше 150."
   ]
  },
  {
   "cell_type": "code",
   "execution_count": 1,
   "metadata": {
    "execution": {
     "iopub.execute_input": "2021-12-30T16:57:16.727649Z",
     "iopub.status.busy": "2021-12-30T16:57:16.726944Z",
     "iopub.status.idle": "2021-12-30T16:57:16.757195Z",
     "shell.execute_reply": "2021-12-30T16:57:16.756443Z",
     "shell.execute_reply.started": "2021-12-30T16:57:16.727503Z"
    }
   },
   "outputs": [],
   "source": [
    "def generate_text(text):\n",
    "    x = []\n",
    "    \n",
    "    for letter in text:\n",
    "        x.append(preproc.token2ind[letter])\n",
    "    x = torch.from_numpy(np.array(x))\n",
    "    \n",
    "    pred = model(x,model.generate_square_subsequent_mask(len(x)))\n",
    "    ind = pred.transpose(-1,1).argmax(1)[0][-1]\n",
    "    \n",
    "    text +=  preproc.ind2token[int(ind)] \n",
    "   \n",
    "    if len(text)>150:\n",
    "        return text\n",
    "    if text[-1] == ']':\n",
    "        return text\n",
    "    else:\n",
    "        return generate_text(text)"
   ]
  },
  {
   "cell_type": "code",
   "execution_count": 2,
   "metadata": {
    "execution": {
     "iopub.execute_input": "2021-12-30T16:57:18.322981Z",
     "iopub.status.busy": "2021-12-30T16:57:18.322405Z",
     "iopub.status.idle": "2021-12-30T16:57:18.386356Z",
     "shell.execute_reply": "2021-12-30T16:57:18.385328Z",
     "shell.execute_reply.started": "2021-12-30T16:57:18.322942Z"
    }
   },
   "outputs": [],
   "source": [
    "model.to('cpu')\n",
    "generate_text('[')"
   ]
  },
  {
   "cell_type": "markdown",
   "metadata": {},
   "source": [
    "## Задание 10* (Задание - бонус, 5 баллов за реализацию при условии, что сделаны прошлые задания)\n",
    "Давайте вспомним, что такое transfer learning. Мы хотим использовать уже предобученные эмбединги для нашей сети, чтобы наша сеть обучалась быстрее. Давайте попробуем обучить новую модель на уровне слов, а не символов, но для упрощения задачи используем предобученный слой из библиотеки Natasha, а вернее, ее блок Navec."
   ]
  },
  {
   "cell_type": "markdown",
   "metadata": {},
   "source": [
    "[Изучите](https://github.com/natasha/navec) то, как вставить слой в вашу нейронную сеть."
   ]
  },
  {
   "cell_type": "markdown",
   "metadata": {},
   "source": [
    "Теперь мы хотим, чтобы на вход модели подавались слова, модифицируйте ваш датасет. Возвращайте теперь номер слова в словаре navec."
   ]
  },
  {
   "cell_type": "code",
   "execution_count": null,
   "metadata": {},
   "outputs": [],
   "source": [
    "class TextDataset_Navec(torch.utils.data.Dataset):\n",
    "    \n",
    "    def __init__(self, x, win_size = 128):\n",
    "        # YOUR CODE HERE\n",
    "        self.navec = ...\n",
    "        ################\n",
    "    \n",
    "    def __len__(self):\n",
    "        # YOUR CODE HERE\n",
    "        ################\n",
    "    \n",
    "    def __getitem__(self, idx):\n",
    "        # YOUR CODE HERE\n",
    "        ################"
   ]
  },
  {
   "cell_type": "markdown",
   "metadata": {},
   "source": [
    "Немного модифицируем модель. Теперь нам не нужны слои с трансформером, так как весь механизм внимания уже заложен в ембедингах. Давайте попробуем просто пройтись линейной головой над эмбедингами. Выберите параметры самостоятельно."
   ]
  },
  {
   "cell_type": "code",
   "execution_count": null,
   "metadata": {},
   "outputs": [],
   "source": [
    "class LanguageModel(nn.Module):\n",
    "    def __init__(self):\n",
    "        super(LanguageModel, self).__init__()\n",
    "        self.emb_navec = ...\n",
    "        self.head = ...\n",
    "    \n",
    "    def forward(self, x):\n",
    "        x = ... # emb\n",
    "        x = ... # head\n",
    "        return x"
   ]
  },
  {
   "cell_type": "markdown",
   "metadata": {},
   "source": [
    "Теперь дело за малым! Надо немного модифицировать класс обучения, так как мы не используем маскирование, после чего можно приступить к тесту!"
   ]
  },
  {
   "cell_type": "code",
   "execution_count": null,
   "metadata": {},
   "outputs": [],
   "source": [
    "class Trainer:\n",
    "    \n",
    "    def __init__(self, model, train_dataset, test_dataset):\n",
    "        \n",
    "        self.model = model\n",
    "        \n",
    "        self.train_batch_size = 64\n",
    "        self.test_batch_size = 64\n",
    "        \n",
    "        self.train_dataloader = ...\n",
    "        self.test_dataloader = ...\n",
    "        self.train_dataloader_size = ...\n",
    "        self.test_dataloader_size = ...\n",
    "        \n",
    "        self.device = 'cuda:0'\n",
    "        self.criterion = ... \n",
    "        \n",
    "        self.optimizer = ...\n",
    "        \n",
    "        self.steps_to_print = 1000\n",
    "        \n",
    "    def train_one_epoch(self, epoch_number):\n",
    "        step = 0\n",
    "        counted_loss = 0\n",
    "        current_time = time.time()\n",
    "        it = 0\n",
    "        \n",
    "        for batch in self.train_dataloader:\n",
    "            x, y = batch\n",
    "            # YOUR CODE HERE\n",
    "            \n",
    "            # реализуйте шаги обучения модели\n",
    "            # сохраняйте значение ошибки в переменную counted_loss\n",
    "            \n",
    "            ################\n",
    "            \n",
    "            \n",
    "            if step%self.steps_to_print == 0:\n",
    "                result = 'Train epoch '+str(epoch_number)+' | '\n",
    "                result += 'Step '+str(step)+'/'+str(self.train_dataloader_size)+' | '\n",
    "                result += 'Counted loss '+str(counted_loss)+' | '\n",
    "                result += 'ppl '+str(math.exp(counted_loss/it))+' | '\n",
    "                result += 'time '+str(time.time() - current_time) + ' | '\n",
    "                print(result)\n",
    "                current_time = time.time()\n",
    "                counted_loss = 0\n",
    "                it = 0\n",
    "    \n",
    "    def validate_one_epoch(self, epoch_number):\n",
    "        step = 0\n",
    "        counted_loss = 0\n",
    "        current_time = time.time()\n",
    "        it = 0\n",
    "        for batch in self.test_dataloader:\n",
    "            x, y = batch\n",
    "            \n",
    "            # YOUR CODE HERE\n",
    "            \n",
    "            # реализуйте шаги для теста модели\n",
    "            # помните, что данный метод уже запускается из \n",
    "            # блока with torch.no_grad(), а потому \n",
    "            # повторно его использовать не нужно\n",
    "            \n",
    "            ################\n",
    "            \n",
    "            if step%(self.steps_to_print//2) == 0:\n",
    "                result = 'Validate epoch '+str(epoch_number)+' | '\n",
    "                result += 'Step '+str(step)+'/'+str(self.test_dataloader_size)+' | '\n",
    "                result += 'Counted loss '+str(counted_loss)+' | '\n",
    "                result += 'ppl '+str(math.exp(counted_loss/it))+' | '\n",
    "                result += 'time '+str(time.time() - current_time) + ' | '\n",
    "                print(result)\n",
    "                current_time = time.time()\n",
    "                counted_loss = 0\n",
    "                it = 0\n",
    "        \n",
    "    def train(self, number_of_epochs):\n",
    "        model.to(self.device)\n",
    "        for epoch in range(1, number_of_epochs+1):\n",
    "            model.train()\n",
    "            self.train_one_epoch(epoch)\n",
    "            with torch.no_grad():\n",
    "                model.eval()\n",
    "                self.validate_one_epoch(epoch)\n",
    "            print()"
   ]
  },
  {
   "cell_type": "markdown",
   "metadata": {},
   "source": [
    "Запустите обучение. "
   ]
  },
  {
   "cell_type": "code",
   "execution_count": null,
   "metadata": {},
   "outputs": [],
   "source": [
    "# YOUR CODE HERE\n",
    "###############"
   ]
  }
 ],
 "metadata": {
  "kernelspec": {
   "display_name": "Python 3 (ipykernel)",
   "language": "python",
   "name": "python3"
  },
  "language_info": {
   "codemirror_mode": {
    "name": "ipython",
    "version": 3
   },
   "file_extension": ".py",
   "mimetype": "text/x-python",
   "name": "python",
   "nbconvert_exporter": "python",
   "pygments_lexer": "ipython3",
   "version": "3.10.1"
  }
 },
 "nbformat": 4,
 "nbformat_minor": 4
}
